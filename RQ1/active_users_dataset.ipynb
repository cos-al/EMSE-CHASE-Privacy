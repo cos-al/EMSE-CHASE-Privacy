{
 "cells": [
  {
   "cell_type": "code",
   "execution_count": 1,
   "id": "f72c283a",
   "metadata": {},
   "outputs": [],
   "source": [
    "import pandas as pd\n",
    "import numpy as np\n",
    "import os\n",
    "import matplotlib.pyplot as plt "
   ]
  },
  {
   "cell_type": "code",
   "execution_count": 2,
   "id": "392bd29f",
   "metadata": {},
   "outputs": [],
   "source": [
    "import scipy.stats as stats\n",
    "from collections import defaultdict\n",
    "from scipy.stats.stats import pearsonr"
   ]
  },
  {
   "cell_type": "code",
   "execution_count": 3,
   "id": "a6aa858c",
   "metadata": {},
   "outputs": [],
   "source": [
    "import csv"
   ]
  },
  {
   "cell_type": "code",
   "execution_count": 4,
   "id": "776776c6",
   "metadata": {},
   "outputs": [],
   "source": [
    "import seaborn as sns"
   ]
  },
  {
   "cell_type": "code",
   "execution_count": 5,
   "id": "61322530",
   "metadata": {},
   "outputs": [],
   "source": [
    "import plotly.express as px"
   ]
  },
  {
   "cell_type": "code",
   "execution_count": 6,
   "id": "53cedbc9",
   "metadata": {},
   "outputs": [],
   "source": [
    "#scaling, normalization\n",
    "from sklearn.preprocessing import StandardScaler, MinMaxScaler, RobustScaler\n",
    "#kmeans, dbscan, hierarchical (sklearn)\n",
    "from sklearn.cluster import KMeans, DBSCAN, AgglomerativeClustering\n",
    "#evaluation\n",
    "from sklearn.metrics import silhouette_score\n",
    "\n",
    "#distance matrix (dbscan elbow, hierarchical)\n",
    "from scipy.spatial.distance import pdist, squareform\n",
    "# hierarchical (scipy)\n",
    "from scipy.cluster.hierarchy import linkage, dendrogram"
   ]
  },
  {
   "cell_type": "markdown",
   "id": "4870900a",
   "metadata": {},
   "source": [
    "## Preprocessing"
   ]
  },
  {
   "cell_type": "code",
   "execution_count": 7,
   "id": "a169abda",
   "metadata": {},
   "outputs": [],
   "source": [
    "df = pd.read_csv('github_aggregate.csv', index_col=False, on_bad_lines='skip')"
   ]
  },
  {
   "cell_type": "code",
   "execution_count": 8,
   "id": "d557dc69",
   "metadata": {},
   "outputs": [],
   "source": [
    "df.drop(columns = 'Unnamed: 0', axis=1, inplace=True)"
   ]
  },
  {
   "cell_type": "code",
   "execution_count": 9,
   "id": "8069c536",
   "metadata": {},
   "outputs": [],
   "source": [
    "col = ['n_of_pr_comments', 'n_of_followers', 'n_of_commits', 'n_of_commit_comments', 'n_of_issue_comments']"
   ]
  },
  {
   "cell_type": "code",
   "execution_count": 10,
   "id": "af093b27",
   "metadata": {},
   "outputs": [
    {
     "data": {
      "text/html": [
       "<div>\n",
       "<style scoped>\n",
       "    .dataframe tbody tr th:only-of-type {\n",
       "        vertical-align: middle;\n",
       "    }\n",
       "\n",
       "    .dataframe tbody tr th {\n",
       "        vertical-align: top;\n",
       "    }\n",
       "\n",
       "    .dataframe thead th {\n",
       "        text-align: right;\n",
       "    }\n",
       "</style>\n",
       "<table border=\"1\" class=\"dataframe\">\n",
       "  <thead>\n",
       "    <tr style=\"text-align: right;\">\n",
       "      <th></th>\n",
       "      <th>user_id</th>\n",
       "      <th>n_of_pr_comments</th>\n",
       "      <th>n_of_followers</th>\n",
       "      <th>n_of_commits</th>\n",
       "      <th>n_of_commit_comments</th>\n",
       "      <th>n_of_issue_comments</th>\n",
       "    </tr>\n",
       "  </thead>\n",
       "  <tbody>\n",
       "    <tr>\n",
       "      <th>0</th>\n",
       "      <td>0</td>\n",
       "      <td>11.0</td>\n",
       "      <td>NaN</td>\n",
       "      <td>NaN</td>\n",
       "      <td>14.0</td>\n",
       "      <td>NaN</td>\n",
       "    </tr>\n",
       "    <tr>\n",
       "      <th>1</th>\n",
       "      <td>1</td>\n",
       "      <td>15.0</td>\n",
       "      <td>31.0</td>\n",
       "      <td>21.0</td>\n",
       "      <td>6.0</td>\n",
       "      <td>30.0</td>\n",
       "    </tr>\n",
       "    <tr>\n",
       "      <th>2</th>\n",
       "      <td>2</td>\n",
       "      <td>25.0</td>\n",
       "      <td>400.0</td>\n",
       "      <td>3598.0</td>\n",
       "      <td>25.0</td>\n",
       "      <td>1504.0</td>\n",
       "    </tr>\n",
       "    <tr>\n",
       "      <th>3</th>\n",
       "      <td>3</td>\n",
       "      <td>4.0</td>\n",
       "      <td>NaN</td>\n",
       "      <td>2.0</td>\n",
       "      <td>3.0</td>\n",
       "      <td>NaN</td>\n",
       "    </tr>\n",
       "    <tr>\n",
       "      <th>4</th>\n",
       "      <td>4</td>\n",
       "      <td>5.0</td>\n",
       "      <td>174.0</td>\n",
       "      <td>463.0</td>\n",
       "      <td>14.0</td>\n",
       "      <td>516.0</td>\n",
       "    </tr>\n",
       "  </tbody>\n",
       "</table>\n",
       "</div>"
      ],
      "text/plain": [
       "   user_id  n_of_pr_comments  n_of_followers  n_of_commits  \\\n",
       "0        0              11.0             NaN           NaN   \n",
       "1        1              15.0            31.0          21.0   \n",
       "2        2              25.0           400.0        3598.0   \n",
       "3        3               4.0             NaN           2.0   \n",
       "4        4               5.0           174.0         463.0   \n",
       "\n",
       "   n_of_commit_comments  n_of_issue_comments  \n",
       "0                  14.0                  NaN  \n",
       "1                   6.0                 30.0  \n",
       "2                  25.0               1504.0  \n",
       "3                   3.0                  NaN  \n",
       "4                  14.0                516.0  "
      ]
     },
     "execution_count": 10,
     "metadata": {},
     "output_type": "execute_result"
    }
   ],
   "source": [
    "df.head()"
   ]
  },
  {
   "cell_type": "code",
   "execution_count": 11,
   "id": "823a2eb9",
   "metadata": {},
   "outputs": [
    {
     "data": {
      "text/plain": [
       "(7141502, 6)"
      ]
     },
     "execution_count": 11,
     "metadata": {},
     "output_type": "execute_result"
    }
   ],
   "source": [
    "df.shape"
   ]
  },
  {
   "cell_type": "markdown",
   "id": "2fe0cde9",
   "metadata": {},
   "source": [
    "Drop users having less than 4 valid data (one of them is user_id which is always valid)"
   ]
  },
  {
   "cell_type": "code",
   "execution_count": 12,
   "id": "8381f6b2",
   "metadata": {},
   "outputs": [],
   "source": [
    "df = df.dropna(how='any',axis=0,thresh=5)"
   ]
  },
  {
   "cell_type": "code",
   "execution_count": 13,
   "id": "5886bb6b",
   "metadata": {},
   "outputs": [
    {
     "data": {
      "text/plain": [
       "user_id                     0\n",
       "n_of_pr_comments        61715\n",
       "n_of_followers            323\n",
       "n_of_commits            16750\n",
       "n_of_commit_comments     8249\n",
       "n_of_issue_comments        42\n",
       "dtype: int64"
      ]
     },
     "execution_count": 13,
     "metadata": {},
     "output_type": "execute_result"
    }
   ],
   "source": [
    "df.isna().sum()"
   ]
  },
  {
   "cell_type": "code",
   "execution_count": 14,
   "id": "05a39b11",
   "metadata": {},
   "outputs": [
    {
     "data": {
      "text/plain": [
       "(117841, 6)"
      ]
     },
     "execution_count": 14,
     "metadata": {},
     "output_type": "execute_result"
    }
   ],
   "source": [
    "df.shape"
   ]
  },
  {
   "cell_type": "code",
   "execution_count": 15,
   "id": "1879e305",
   "metadata": {},
   "outputs": [
    {
     "data": {
      "text/html": [
       "<div>\n",
       "<style scoped>\n",
       "    .dataframe tbody tr th:only-of-type {\n",
       "        vertical-align: middle;\n",
       "    }\n",
       "\n",
       "    .dataframe tbody tr th {\n",
       "        vertical-align: top;\n",
       "    }\n",
       "\n",
       "    .dataframe thead th {\n",
       "        text-align: right;\n",
       "    }\n",
       "</style>\n",
       "<table border=\"1\" class=\"dataframe\">\n",
       "  <thead>\n",
       "    <tr style=\"text-align: right;\">\n",
       "      <th></th>\n",
       "      <th>user_id</th>\n",
       "      <th>n_of_pr_comments</th>\n",
       "      <th>n_of_followers</th>\n",
       "      <th>n_of_commits</th>\n",
       "      <th>n_of_commit_comments</th>\n",
       "      <th>n_of_issue_comments</th>\n",
       "    </tr>\n",
       "  </thead>\n",
       "  <tbody>\n",
       "    <tr>\n",
       "      <th>1</th>\n",
       "      <td>1</td>\n",
       "      <td>15.0</td>\n",
       "      <td>31.0</td>\n",
       "      <td>21.0</td>\n",
       "      <td>6.0</td>\n",
       "      <td>30.0</td>\n",
       "    </tr>\n",
       "    <tr>\n",
       "      <th>2</th>\n",
       "      <td>2</td>\n",
       "      <td>25.0</td>\n",
       "      <td>400.0</td>\n",
       "      <td>3598.0</td>\n",
       "      <td>25.0</td>\n",
       "      <td>1504.0</td>\n",
       "    </tr>\n",
       "    <tr>\n",
       "      <th>4</th>\n",
       "      <td>4</td>\n",
       "      <td>5.0</td>\n",
       "      <td>174.0</td>\n",
       "      <td>463.0</td>\n",
       "      <td>14.0</td>\n",
       "      <td>516.0</td>\n",
       "    </tr>\n",
       "    <tr>\n",
       "      <th>5</th>\n",
       "      <td>5</td>\n",
       "      <td>62.0</td>\n",
       "      <td>390.0</td>\n",
       "      <td>1057.0</td>\n",
       "      <td>44.0</td>\n",
       "      <td>3103.0</td>\n",
       "    </tr>\n",
       "    <tr>\n",
       "      <th>6</th>\n",
       "      <td>6</td>\n",
       "      <td>5.0</td>\n",
       "      <td>8.0</td>\n",
       "      <td>5784.0</td>\n",
       "      <td>3.0</td>\n",
       "      <td>6.0</td>\n",
       "    </tr>\n",
       "  </tbody>\n",
       "</table>\n",
       "</div>"
      ],
      "text/plain": [
       "   user_id  n_of_pr_comments  n_of_followers  n_of_commits  \\\n",
       "1        1              15.0            31.0          21.0   \n",
       "2        2              25.0           400.0        3598.0   \n",
       "4        4               5.0           174.0         463.0   \n",
       "5        5              62.0           390.0        1057.0   \n",
       "6        6               5.0             8.0        5784.0   \n",
       "\n",
       "   n_of_commit_comments  n_of_issue_comments  \n",
       "1                   6.0                 30.0  \n",
       "2                  25.0               1504.0  \n",
       "4                  14.0                516.0  \n",
       "5                  44.0               3103.0  \n",
       "6                   3.0                  6.0  "
      ]
     },
     "execution_count": 15,
     "metadata": {},
     "output_type": "execute_result"
    }
   ],
   "source": [
    "df.head()"
   ]
  },
  {
   "cell_type": "code",
   "execution_count": 16,
   "id": "881108b6",
   "metadata": {},
   "outputs": [
    {
     "data": {
      "text/html": [
       "<div>\n",
       "<style scoped>\n",
       "    .dataframe tbody tr th:only-of-type {\n",
       "        vertical-align: middle;\n",
       "    }\n",
       "\n",
       "    .dataframe tbody tr th {\n",
       "        vertical-align: top;\n",
       "    }\n",
       "\n",
       "    .dataframe thead th {\n",
       "        text-align: right;\n",
       "    }\n",
       "</style>\n",
       "<table border=\"1\" class=\"dataframe\">\n",
       "  <thead>\n",
       "    <tr style=\"text-align: right;\">\n",
       "      <th></th>\n",
       "      <th>n_of_pr_comments</th>\n",
       "      <th>n_of_followers</th>\n",
       "      <th>n_of_commits</th>\n",
       "      <th>n_of_commit_comments</th>\n",
       "      <th>n_of_issue_comments</th>\n",
       "    </tr>\n",
       "  </thead>\n",
       "  <tbody>\n",
       "    <tr>\n",
       "      <th>count</th>\n",
       "      <td>56126.000000</td>\n",
       "      <td>117518.000000</td>\n",
       "      <td>101091.000000</td>\n",
       "      <td>109592.000000</td>\n",
       "      <td>117799.000000</td>\n",
       "    </tr>\n",
       "    <tr>\n",
       "      <th>mean</th>\n",
       "      <td>32.409097</td>\n",
       "      <td>79.455386</td>\n",
       "      <td>113.063299</td>\n",
       "      <td>18.770157</td>\n",
       "      <td>457.980501</td>\n",
       "    </tr>\n",
       "    <tr>\n",
       "      <th>std</th>\n",
       "      <td>194.088859</td>\n",
       "      <td>524.014436</td>\n",
       "      <td>316.786688</td>\n",
       "      <td>86.995440</td>\n",
       "      <td>1425.421577</td>\n",
       "    </tr>\n",
       "    <tr>\n",
       "      <th>min</th>\n",
       "      <td>1.000000</td>\n",
       "      <td>1.000000</td>\n",
       "      <td>1.000000</td>\n",
       "      <td>0.000000</td>\n",
       "      <td>1.000000</td>\n",
       "    </tr>\n",
       "    <tr>\n",
       "      <th>25%</th>\n",
       "      <td>2.000000</td>\n",
       "      <td>8.000000</td>\n",
       "      <td>6.000000</td>\n",
       "      <td>1.000000</td>\n",
       "      <td>29.000000</td>\n",
       "    </tr>\n",
       "    <tr>\n",
       "      <th>50%</th>\n",
       "      <td>4.000000</td>\n",
       "      <td>21.000000</td>\n",
       "      <td>27.000000</td>\n",
       "      <td>4.000000</td>\n",
       "      <td>98.000000</td>\n",
       "    </tr>\n",
       "    <tr>\n",
       "      <th>75%</th>\n",
       "      <td>14.000000</td>\n",
       "      <td>51.000000</td>\n",
       "      <td>102.000000</td>\n",
       "      <td>12.000000</td>\n",
       "      <td>332.000000</td>\n",
       "    </tr>\n",
       "    <tr>\n",
       "      <th>max</th>\n",
       "      <td>30699.000000</td>\n",
       "      <td>53972.000000</td>\n",
       "      <td>25403.000000</td>\n",
       "      <td>7856.000000</td>\n",
       "      <td>93509.000000</td>\n",
       "    </tr>\n",
       "  </tbody>\n",
       "</table>\n",
       "</div>"
      ],
      "text/plain": [
       "       n_of_pr_comments  n_of_followers   n_of_commits  n_of_commit_comments  \\\n",
       "count      56126.000000   117518.000000  101091.000000         109592.000000   \n",
       "mean          32.409097       79.455386     113.063299             18.770157   \n",
       "std          194.088859      524.014436     316.786688             86.995440   \n",
       "min            1.000000        1.000000       1.000000              0.000000   \n",
       "25%            2.000000        8.000000       6.000000              1.000000   \n",
       "50%            4.000000       21.000000      27.000000              4.000000   \n",
       "75%           14.000000       51.000000     102.000000             12.000000   \n",
       "max        30699.000000    53972.000000   25403.000000           7856.000000   \n",
       "\n",
       "       n_of_issue_comments  \n",
       "count        117799.000000  \n",
       "mean            457.980501  \n",
       "std            1425.421577  \n",
       "min               1.000000  \n",
       "25%              29.000000  \n",
       "50%              98.000000  \n",
       "75%             332.000000  \n",
       "max           93509.000000  "
      ]
     },
     "execution_count": 16,
     "metadata": {},
     "output_type": "execute_result"
    }
   ],
   "source": [
    "df[col].describe()"
   ]
  },
  {
   "cell_type": "markdown",
   "id": "38d92e94",
   "metadata": {},
   "source": [
    "Deleting missing values and infinity for cluster analysis"
   ]
  },
  {
   "cell_type": "code",
   "execution_count": 17,
   "id": "edf65d59",
   "metadata": {},
   "outputs": [],
   "source": [
    "# checking for infinity https://www.geeksforgeeks.org/check-if-dataframe-contains-infinity-in-python-pandas/\n",
    "ds = df.isin([np.inf, -np.inf])  "
   ]
  },
  {
   "cell_type": "code",
   "execution_count": 18,
   "id": "b41a6193",
   "metadata": {},
   "outputs": [],
   "source": [
    "# count infinity\n",
    "count = np.isinf(df).values.sum()"
   ]
  },
  {
   "cell_type": "code",
   "execution_count": 19,
   "id": "f7e2c0dd",
   "metadata": {},
   "outputs": [
    {
     "name": "stdout",
     "output_type": "stream",
     "text": [
      "0\n"
     ]
    }
   ],
   "source": [
    "print(count)  "
   ]
  },
  {
   "cell_type": "markdown",
   "id": "dcf89683",
   "metadata": {},
   "source": [
    "### Fill all missing values"
   ]
  },
  {
   "cell_type": "code",
   "execution_count": 20,
   "id": "2700551a",
   "metadata": {},
   "outputs": [],
   "source": [
    "df['n_of_issue_comments'].interpolate(method='linear', limit_direction='forward', downcast='infer', inplace=True)\n",
    "df['n_of_followers'].interpolate(method='linear', limit_direction='forward', downcast='infer', inplace=True)\n",
    "df['n_of_commits'].fillna(method=\"ffill\", downcast='infer', inplace=True) \n",
    "df['n_of_pr_comments'].fillna(method=\"ffill\", downcast='infer', inplace=True) \n",
    "df['n_of_commit_comments'].interpolate(method='linear', limit_direction='forward', downcast='infer', inplace=True)"
   ]
  },
  {
   "cell_type": "code",
   "execution_count": 21,
   "id": "f0d398be",
   "metadata": {},
   "outputs": [
    {
     "data": {
      "text/plain": [
       "user_id                 0\n",
       "n_of_pr_comments        0\n",
       "n_of_followers          0\n",
       "n_of_commits            0\n",
       "n_of_commit_comments    0\n",
       "n_of_issue_comments     0\n",
       "dtype: int64"
      ]
     },
     "execution_count": 21,
     "metadata": {},
     "output_type": "execute_result"
    }
   ],
   "source": [
    "df.isna().sum()"
   ]
  },
  {
   "cell_type": "code",
   "execution_count": 22,
   "id": "dfecf808",
   "metadata": {},
   "outputs": [
    {
     "data": {
      "text/html": [
       "<div>\n",
       "<style scoped>\n",
       "    .dataframe tbody tr th:only-of-type {\n",
       "        vertical-align: middle;\n",
       "    }\n",
       "\n",
       "    .dataframe tbody tr th {\n",
       "        vertical-align: top;\n",
       "    }\n",
       "\n",
       "    .dataframe thead th {\n",
       "        text-align: right;\n",
       "    }\n",
       "</style>\n",
       "<table border=\"1\" class=\"dataframe\">\n",
       "  <thead>\n",
       "    <tr style=\"text-align: right;\">\n",
       "      <th></th>\n",
       "      <th>user_id</th>\n",
       "      <th>n_of_pr_comments</th>\n",
       "      <th>n_of_followers</th>\n",
       "      <th>n_of_commits</th>\n",
       "      <th>n_of_commit_comments</th>\n",
       "      <th>n_of_issue_comments</th>\n",
       "    </tr>\n",
       "  </thead>\n",
       "  <tbody>\n",
       "    <tr>\n",
       "      <th>1</th>\n",
       "      <td>1</td>\n",
       "      <td>15</td>\n",
       "      <td>31.0</td>\n",
       "      <td>21</td>\n",
       "      <td>6.0</td>\n",
       "      <td>30.0</td>\n",
       "    </tr>\n",
       "    <tr>\n",
       "      <th>2</th>\n",
       "      <td>2</td>\n",
       "      <td>25</td>\n",
       "      <td>400.0</td>\n",
       "      <td>3598</td>\n",
       "      <td>25.0</td>\n",
       "      <td>1504.0</td>\n",
       "    </tr>\n",
       "    <tr>\n",
       "      <th>4</th>\n",
       "      <td>4</td>\n",
       "      <td>5</td>\n",
       "      <td>174.0</td>\n",
       "      <td>463</td>\n",
       "      <td>14.0</td>\n",
       "      <td>516.0</td>\n",
       "    </tr>\n",
       "    <tr>\n",
       "      <th>5</th>\n",
       "      <td>5</td>\n",
       "      <td>62</td>\n",
       "      <td>390.0</td>\n",
       "      <td>1057</td>\n",
       "      <td>44.0</td>\n",
       "      <td>3103.0</td>\n",
       "    </tr>\n",
       "    <tr>\n",
       "      <th>6</th>\n",
       "      <td>6</td>\n",
       "      <td>5</td>\n",
       "      <td>8.0</td>\n",
       "      <td>5784</td>\n",
       "      <td>3.0</td>\n",
       "      <td>6.0</td>\n",
       "    </tr>\n",
       "  </tbody>\n",
       "</table>\n",
       "</div>"
      ],
      "text/plain": [
       "   user_id  n_of_pr_comments  n_of_followers  n_of_commits  \\\n",
       "1        1                15            31.0            21   \n",
       "2        2                25           400.0          3598   \n",
       "4        4                 5           174.0           463   \n",
       "5        5                62           390.0          1057   \n",
       "6        6                 5             8.0          5784   \n",
       "\n",
       "   n_of_commit_comments  n_of_issue_comments  \n",
       "1                   6.0                 30.0  \n",
       "2                  25.0               1504.0  \n",
       "4                  14.0                516.0  \n",
       "5                  44.0               3103.0  \n",
       "6                   3.0                  6.0  "
      ]
     },
     "execution_count": 22,
     "metadata": {},
     "output_type": "execute_result"
    }
   ],
   "source": [
    "df.head()"
   ]
  },
  {
   "cell_type": "code",
   "execution_count": 23,
   "id": "48150ecb",
   "metadata": {},
   "outputs": [
    {
     "data": {
      "text/html": [
       "<div>\n",
       "<style scoped>\n",
       "    .dataframe tbody tr th:only-of-type {\n",
       "        vertical-align: middle;\n",
       "    }\n",
       "\n",
       "    .dataframe tbody tr th {\n",
       "        vertical-align: top;\n",
       "    }\n",
       "\n",
       "    .dataframe thead th {\n",
       "        text-align: right;\n",
       "    }\n",
       "</style>\n",
       "<table border=\"1\" class=\"dataframe\">\n",
       "  <thead>\n",
       "    <tr style=\"text-align: right;\">\n",
       "      <th></th>\n",
       "      <th>n_of_pr_comments</th>\n",
       "      <th>n_of_followers</th>\n",
       "      <th>n_of_commits</th>\n",
       "      <th>n_of_commit_comments</th>\n",
       "      <th>n_of_issue_comments</th>\n",
       "    </tr>\n",
       "  </thead>\n",
       "  <tbody>\n",
       "    <tr>\n",
       "      <th>count</th>\n",
       "      <td>117841.000000</td>\n",
       "      <td>117841.000000</td>\n",
       "      <td>117841.000000</td>\n",
       "      <td>117841.000000</td>\n",
       "      <td>117841.000000</td>\n",
       "    </tr>\n",
       "    <tr>\n",
       "      <th>mean</th>\n",
       "      <td>15.959708</td>\n",
       "      <td>79.431709</td>\n",
       "      <td>99.818976</td>\n",
       "      <td>19.673785</td>\n",
       "      <td>457.991192</td>\n",
       "    </tr>\n",
       "    <tr>\n",
       "      <th>std</th>\n",
       "      <td>134.862269</td>\n",
       "      <td>523.679942</td>\n",
       "      <td>297.652154</td>\n",
       "      <td>91.044208</td>\n",
       "      <td>1425.221504</td>\n",
       "    </tr>\n",
       "    <tr>\n",
       "      <th>min</th>\n",
       "      <td>1.000000</td>\n",
       "      <td>1.000000</td>\n",
       "      <td>1.000000</td>\n",
       "      <td>0.000000</td>\n",
       "      <td>1.000000</td>\n",
       "    </tr>\n",
       "    <tr>\n",
       "      <th>25%</th>\n",
       "      <td>1.000000</td>\n",
       "      <td>8.000000</td>\n",
       "      <td>3.000000</td>\n",
       "      <td>2.000000</td>\n",
       "      <td>29.000000</td>\n",
       "    </tr>\n",
       "    <tr>\n",
       "      <th>50%</th>\n",
       "      <td>1.000000</td>\n",
       "      <td>21.000000</td>\n",
       "      <td>19.000000</td>\n",
       "      <td>4.000000</td>\n",
       "      <td>98.000000</td>\n",
       "    </tr>\n",
       "    <tr>\n",
       "      <th>75%</th>\n",
       "      <td>4.000000</td>\n",
       "      <td>51.000000</td>\n",
       "      <td>86.000000</td>\n",
       "      <td>13.000000</td>\n",
       "      <td>332.000000</td>\n",
       "    </tr>\n",
       "    <tr>\n",
       "      <th>max</th>\n",
       "      <td>30699.000000</td>\n",
       "      <td>53972.000000</td>\n",
       "      <td>25403.000000</td>\n",
       "      <td>7856.000000</td>\n",
       "      <td>93509.000000</td>\n",
       "    </tr>\n",
       "  </tbody>\n",
       "</table>\n",
       "</div>"
      ],
      "text/plain": [
       "       n_of_pr_comments  n_of_followers   n_of_commits  n_of_commit_comments  \\\n",
       "count     117841.000000   117841.000000  117841.000000         117841.000000   \n",
       "mean          15.959708       79.431709      99.818976             19.673785   \n",
       "std          134.862269      523.679942     297.652154             91.044208   \n",
       "min            1.000000        1.000000       1.000000              0.000000   \n",
       "25%            1.000000        8.000000       3.000000              2.000000   \n",
       "50%            1.000000       21.000000      19.000000              4.000000   \n",
       "75%            4.000000       51.000000      86.000000             13.000000   \n",
       "max        30699.000000    53972.000000   25403.000000           7856.000000   \n",
       "\n",
       "       n_of_issue_comments  \n",
       "count        117841.000000  \n",
       "mean            457.991192  \n",
       "std            1425.221504  \n",
       "min               1.000000  \n",
       "25%              29.000000  \n",
       "50%              98.000000  \n",
       "75%             332.000000  \n",
       "max           93509.000000  "
      ]
     },
     "execution_count": 23,
     "metadata": {},
     "output_type": "execute_result"
    }
   ],
   "source": [
    "df[col].describe()"
   ]
  },
  {
   "cell_type": "code",
   "execution_count": 24,
   "id": "a471c60b",
   "metadata": {},
   "outputs": [
    {
     "data": {
      "text/plain": [
       "user_id                   int64\n",
       "n_of_pr_comments          int64\n",
       "n_of_followers          float64\n",
       "n_of_commits              int64\n",
       "n_of_commit_comments    float64\n",
       "n_of_issue_comments     float64\n",
       "dtype: object"
      ]
     },
     "execution_count": 24,
     "metadata": {},
     "output_type": "execute_result"
    }
   ],
   "source": [
    "df.dtypes"
   ]
  },
  {
   "cell_type": "markdown",
   "id": "fae9f95c",
   "metadata": {},
   "source": [
    "#### Scale before discretize"
   ]
  },
  {
   "cell_type": "code",
   "execution_count": 25,
   "id": "e7eea90f",
   "metadata": {},
   "outputs": [],
   "source": [
    "col = ['n_of_pr_comments', 'n_of_followers', 'n_of_commits', 'n_of_commit_comments', 'n_of_issue_comments']"
   ]
  },
  {
   "cell_type": "code",
   "execution_count": 26,
   "id": "1ef41fa7",
   "metadata": {},
   "outputs": [],
   "source": [
    "df_copy = df.copy()"
   ]
  },
  {
   "cell_type": "code",
   "execution_count": 27,
   "id": "b79ea6aa",
   "metadata": {},
   "outputs": [],
   "source": [
    "features = df_copy[col]"
   ]
  },
  {
   "cell_type": "code",
   "execution_count": 28,
   "id": "017e183c",
   "metadata": {},
   "outputs": [],
   "source": [
    "scaler = MinMaxScaler().fit(features.values)\n",
    "features = scaler.transform(features.values)"
   ]
  },
  {
   "cell_type": "code",
   "execution_count": 29,
   "id": "c8d3a428",
   "metadata": {},
   "outputs": [],
   "source": [
    "df_copy[col] = features"
   ]
  },
  {
   "cell_type": "code",
   "execution_count": 30,
   "id": "0c24c944",
   "metadata": {},
   "outputs": [],
   "source": [
    "pd.set_option('display.float_format', '{:.1e}'.format)"
   ]
  },
  {
   "cell_type": "code",
   "execution_count": 31,
   "id": "ddbd4d32",
   "metadata": {},
   "outputs": [
    {
     "data": {
      "text/html": [
       "<div>\n",
       "<style scoped>\n",
       "    .dataframe tbody tr th:only-of-type {\n",
       "        vertical-align: middle;\n",
       "    }\n",
       "\n",
       "    .dataframe tbody tr th {\n",
       "        vertical-align: top;\n",
       "    }\n",
       "\n",
       "    .dataframe thead th {\n",
       "        text-align: right;\n",
       "    }\n",
       "</style>\n",
       "<table border=\"1\" class=\"dataframe\">\n",
       "  <thead>\n",
       "    <tr style=\"text-align: right;\">\n",
       "      <th></th>\n",
       "      <th>n_of_pr_comments</th>\n",
       "      <th>n_of_followers</th>\n",
       "      <th>n_of_commits</th>\n",
       "      <th>n_of_commit_comments</th>\n",
       "      <th>n_of_issue_comments</th>\n",
       "    </tr>\n",
       "  </thead>\n",
       "  <tbody>\n",
       "    <tr>\n",
       "      <th>count</th>\n",
       "      <td>1.2e+05</td>\n",
       "      <td>1.2e+05</td>\n",
       "      <td>1.2e+05</td>\n",
       "      <td>1.2e+05</td>\n",
       "      <td>1.2e+05</td>\n",
       "    </tr>\n",
       "    <tr>\n",
       "      <th>mean</th>\n",
       "      <td>4.9e-04</td>\n",
       "      <td>1.5e-03</td>\n",
       "      <td>3.9e-03</td>\n",
       "      <td>2.5e-03</td>\n",
       "      <td>4.9e-03</td>\n",
       "    </tr>\n",
       "    <tr>\n",
       "      <th>std</th>\n",
       "      <td>4.4e-03</td>\n",
       "      <td>9.7e-03</td>\n",
       "      <td>1.2e-02</td>\n",
       "      <td>1.2e-02</td>\n",
       "      <td>1.5e-02</td>\n",
       "    </tr>\n",
       "    <tr>\n",
       "      <th>min</th>\n",
       "      <td>0.0e+00</td>\n",
       "      <td>0.0e+00</td>\n",
       "      <td>0.0e+00</td>\n",
       "      <td>0.0e+00</td>\n",
       "      <td>0.0e+00</td>\n",
       "    </tr>\n",
       "    <tr>\n",
       "      <th>25%</th>\n",
       "      <td>0.0e+00</td>\n",
       "      <td>1.3e-04</td>\n",
       "      <td>7.9e-05</td>\n",
       "      <td>2.5e-04</td>\n",
       "      <td>3.0e-04</td>\n",
       "    </tr>\n",
       "    <tr>\n",
       "      <th>50%</th>\n",
       "      <td>0.0e+00</td>\n",
       "      <td>3.7e-04</td>\n",
       "      <td>7.1e-04</td>\n",
       "      <td>5.1e-04</td>\n",
       "      <td>1.0e-03</td>\n",
       "    </tr>\n",
       "    <tr>\n",
       "      <th>75%</th>\n",
       "      <td>9.8e-05</td>\n",
       "      <td>9.3e-04</td>\n",
       "      <td>3.3e-03</td>\n",
       "      <td>1.7e-03</td>\n",
       "      <td>3.5e-03</td>\n",
       "    </tr>\n",
       "    <tr>\n",
       "      <th>max</th>\n",
       "      <td>1.0e+00</td>\n",
       "      <td>1.0e+00</td>\n",
       "      <td>1.0e+00</td>\n",
       "      <td>1.0e+00</td>\n",
       "      <td>1.0e+00</td>\n",
       "    </tr>\n",
       "  </tbody>\n",
       "</table>\n",
       "</div>"
      ],
      "text/plain": [
       "       n_of_pr_comments  n_of_followers  n_of_commits  n_of_commit_comments  \\\n",
       "count           1.2e+05         1.2e+05       1.2e+05               1.2e+05   \n",
       "mean            4.9e-04         1.5e-03       3.9e-03               2.5e-03   \n",
       "std             4.4e-03         9.7e-03       1.2e-02               1.2e-02   \n",
       "min             0.0e+00         0.0e+00       0.0e+00               0.0e+00   \n",
       "25%             0.0e+00         1.3e-04       7.9e-05               2.5e-04   \n",
       "50%             0.0e+00         3.7e-04       7.1e-04               5.1e-04   \n",
       "75%             9.8e-05         9.3e-04       3.3e-03               1.7e-03   \n",
       "max             1.0e+00         1.0e+00       1.0e+00               1.0e+00   \n",
       "\n",
       "       n_of_issue_comments  \n",
       "count              1.2e+05  \n",
       "mean               4.9e-03  \n",
       "std                1.5e-02  \n",
       "min                0.0e+00  \n",
       "25%                3.0e-04  \n",
       "50%                1.0e-03  \n",
       "75%                3.5e-03  \n",
       "max                1.0e+00  "
      ]
     },
     "execution_count": 31,
     "metadata": {},
     "output_type": "execute_result"
    }
   ],
   "source": [
    "df_copy[col].describe()\n"
   ]
  },
  {
   "cell_type": "code",
   "execution_count": 32,
   "id": "f716fe0a",
   "metadata": {},
   "outputs": [
    {
     "data": {
      "text/plain": [
       "(117841, 6)"
      ]
     },
     "execution_count": 32,
     "metadata": {},
     "output_type": "execute_result"
    }
   ],
   "source": [
    "df_copy.shape"
   ]
  },
  {
   "cell_type": "code",
   "execution_count": 33,
   "id": "2328c1d8",
   "metadata": {},
   "outputs": [
    {
     "data": {
      "text/html": [
       "<div>\n",
       "<style scoped>\n",
       "    .dataframe tbody tr th:only-of-type {\n",
       "        vertical-align: middle;\n",
       "    }\n",
       "\n",
       "    .dataframe tbody tr th {\n",
       "        vertical-align: top;\n",
       "    }\n",
       "\n",
       "    .dataframe thead th {\n",
       "        text-align: right;\n",
       "    }\n",
       "</style>\n",
       "<table border=\"1\" class=\"dataframe\">\n",
       "  <thead>\n",
       "    <tr style=\"text-align: right;\">\n",
       "      <th></th>\n",
       "      <th>user_id</th>\n",
       "      <th>n_of_pr_comments</th>\n",
       "      <th>n_of_followers</th>\n",
       "      <th>n_of_commits</th>\n",
       "      <th>n_of_commit_comments</th>\n",
       "      <th>n_of_issue_comments</th>\n",
       "    </tr>\n",
       "  </thead>\n",
       "  <tbody>\n",
       "    <tr>\n",
       "      <th>1</th>\n",
       "      <td>1</td>\n",
       "      <td>4.6e-04</td>\n",
       "      <td>5.6e-04</td>\n",
       "      <td>7.9e-04</td>\n",
       "      <td>7.6e-04</td>\n",
       "      <td>3.1e-04</td>\n",
       "    </tr>\n",
       "    <tr>\n",
       "      <th>2</th>\n",
       "      <td>2</td>\n",
       "      <td>7.8e-04</td>\n",
       "      <td>7.4e-03</td>\n",
       "      <td>1.4e-01</td>\n",
       "      <td>3.2e-03</td>\n",
       "      <td>1.6e-02</td>\n",
       "    </tr>\n",
       "    <tr>\n",
       "      <th>4</th>\n",
       "      <td>4</td>\n",
       "      <td>1.3e-04</td>\n",
       "      <td>3.2e-03</td>\n",
       "      <td>1.8e-02</td>\n",
       "      <td>1.8e-03</td>\n",
       "      <td>5.5e-03</td>\n",
       "    </tr>\n",
       "    <tr>\n",
       "      <th>5</th>\n",
       "      <td>5</td>\n",
       "      <td>2.0e-03</td>\n",
       "      <td>7.2e-03</td>\n",
       "      <td>4.2e-02</td>\n",
       "      <td>5.6e-03</td>\n",
       "      <td>3.3e-02</td>\n",
       "    </tr>\n",
       "    <tr>\n",
       "      <th>6</th>\n",
       "      <td>6</td>\n",
       "      <td>1.3e-04</td>\n",
       "      <td>1.3e-04</td>\n",
       "      <td>2.3e-01</td>\n",
       "      <td>3.8e-04</td>\n",
       "      <td>5.3e-05</td>\n",
       "    </tr>\n",
       "  </tbody>\n",
       "</table>\n",
       "</div>"
      ],
      "text/plain": [
       "   user_id  n_of_pr_comments  n_of_followers  n_of_commits  \\\n",
       "1        1           4.6e-04         5.6e-04       7.9e-04   \n",
       "2        2           7.8e-04         7.4e-03       1.4e-01   \n",
       "4        4           1.3e-04         3.2e-03       1.8e-02   \n",
       "5        5           2.0e-03         7.2e-03       4.2e-02   \n",
       "6        6           1.3e-04         1.3e-04       2.3e-01   \n",
       "\n",
       "   n_of_commit_comments  n_of_issue_comments  \n",
       "1               7.6e-04              3.1e-04  \n",
       "2               3.2e-03              1.6e-02  \n",
       "4               1.8e-03              5.5e-03  \n",
       "5               5.6e-03              3.3e-02  \n",
       "6               3.8e-04              5.3e-05  "
      ]
     },
     "execution_count": 33,
     "metadata": {},
     "output_type": "execute_result"
    }
   ],
   "source": [
    "df_copy.head()"
   ]
  },
  {
   "cell_type": "code",
   "execution_count": 34,
   "id": "74c32edd",
   "metadata": {},
   "outputs": [],
   "source": [
    "df = df_copy.copy()"
   ]
  },
  {
   "cell_type": "markdown",
   "id": "c74fc037",
   "metadata": {},
   "source": [
    "#### Discretize n of pr comments"
   ]
  },
  {
   "cell_type": "code",
   "execution_count": 35,
   "id": "0f4e8230",
   "metadata": {},
   "outputs": [
    {
     "data": {
      "text/plain": [
       "count   1.2e+05\n",
       "mean    4.9e-04\n",
       "std     4.4e-03\n",
       "min     0.0e+00\n",
       "50%     0.0e+00\n",
       "60%     0.0e+00\n",
       "65%     3.3e-05\n",
       "75%     9.8e-05\n",
       "80%     1.6e-04\n",
       "85%     2.9e-04\n",
       "90%     5.9e-04\n",
       "95%     1.6e-03\n",
       "98%     4.9e-03\n",
       "99%     9.5e-03\n",
       "max     1.0e+00\n",
       "Name: n_of_pr_comments, dtype: float64"
      ]
     },
     "execution_count": 35,
     "metadata": {},
     "output_type": "execute_result"
    }
   ],
   "source": [
    "df['n_of_pr_comments'].describe(percentiles=[0.60, 0.65, 0.75,.8,.85,.9,.95,.98,.99])"
   ]
  },
  {
   "cell_type": "code",
   "execution_count": 38,
   "id": "68360630",
   "metadata": {},
   "outputs": [
    {
     "data": {
      "text/html": [
       "<div>\n",
       "<style scoped>\n",
       "    .dataframe tbody tr th:only-of-type {\n",
       "        vertical-align: middle;\n",
       "    }\n",
       "\n",
       "    .dataframe tbody tr th {\n",
       "        vertical-align: top;\n",
       "    }\n",
       "\n",
       "    .dataframe thead th {\n",
       "        text-align: right;\n",
       "    }\n",
       "</style>\n",
       "<table border=\"1\" class=\"dataframe\">\n",
       "  <thead>\n",
       "    <tr style=\"text-align: right;\">\n",
       "      <th></th>\n",
       "      <th>n_of_pr_comments</th>\n",
       "      <th>n_of_followers</th>\n",
       "      <th>n_of_commits</th>\n",
       "      <th>n_of_commit_comments</th>\n",
       "      <th>n_of_issue_comments</th>\n",
       "    </tr>\n",
       "  </thead>\n",
       "  <tbody>\n",
       "    <tr>\n",
       "      <th>count</th>\n",
       "      <td>1.2e+05</td>\n",
       "      <td>1.2e+05</td>\n",
       "      <td>1.2e+05</td>\n",
       "      <td>1.2e+05</td>\n",
       "      <td>1.2e+05</td>\n",
       "    </tr>\n",
       "    <tr>\n",
       "      <th>mean</th>\n",
       "      <td>4.9e-04</td>\n",
       "      <td>1.5e-03</td>\n",
       "      <td>3.9e-03</td>\n",
       "      <td>2.5e-03</td>\n",
       "      <td>4.9e-03</td>\n",
       "    </tr>\n",
       "    <tr>\n",
       "      <th>std</th>\n",
       "      <td>4.4e-03</td>\n",
       "      <td>9.7e-03</td>\n",
       "      <td>1.2e-02</td>\n",
       "      <td>1.2e-02</td>\n",
       "      <td>1.5e-02</td>\n",
       "    </tr>\n",
       "    <tr>\n",
       "      <th>min</th>\n",
       "      <td>0.0e+00</td>\n",
       "      <td>0.0e+00</td>\n",
       "      <td>0.0e+00</td>\n",
       "      <td>0.0e+00</td>\n",
       "      <td>0.0e+00</td>\n",
       "    </tr>\n",
       "    <tr>\n",
       "      <th>50%</th>\n",
       "      <td>0.0e+00</td>\n",
       "      <td>3.7e-04</td>\n",
       "      <td>7.1e-04</td>\n",
       "      <td>5.1e-04</td>\n",
       "      <td>1.0e-03</td>\n",
       "    </tr>\n",
       "    <tr>\n",
       "      <th>65%</th>\n",
       "      <td>3.3e-05</td>\n",
       "      <td>6.1e-04</td>\n",
       "      <td>1.8e-03</td>\n",
       "      <td>1.0e-03</td>\n",
       "      <td>2.1e-03</td>\n",
       "    </tr>\n",
       "    <tr>\n",
       "      <th>75%</th>\n",
       "      <td>9.8e-05</td>\n",
       "      <td>9.3e-04</td>\n",
       "      <td>3.3e-03</td>\n",
       "      <td>1.7e-03</td>\n",
       "      <td>3.5e-03</td>\n",
       "    </tr>\n",
       "    <tr>\n",
       "      <th>max</th>\n",
       "      <td>1.0e+00</td>\n",
       "      <td>1.0e+00</td>\n",
       "      <td>1.0e+00</td>\n",
       "      <td>1.0e+00</td>\n",
       "      <td>1.0e+00</td>\n",
       "    </tr>\n",
       "  </tbody>\n",
       "</table>\n",
       "</div>"
      ],
      "text/plain": [
       "       n_of_pr_comments  n_of_followers  n_of_commits  n_of_commit_comments  \\\n",
       "count           1.2e+05         1.2e+05       1.2e+05               1.2e+05   \n",
       "mean            4.9e-04         1.5e-03       3.9e-03               2.5e-03   \n",
       "std             4.4e-03         9.7e-03       1.2e-02               1.2e-02   \n",
       "min             0.0e+00         0.0e+00       0.0e+00               0.0e+00   \n",
       "50%             0.0e+00         3.7e-04       7.1e-04               5.1e-04   \n",
       "65%             3.3e-05         6.1e-04       1.8e-03               1.0e-03   \n",
       "75%             9.8e-05         9.3e-04       3.3e-03               1.7e-03   \n",
       "max             1.0e+00         1.0e+00       1.0e+00               1.0e+00   \n",
       "\n",
       "       n_of_issue_comments  \n",
       "count              1.2e+05  \n",
       "mean               4.9e-03  \n",
       "std                1.5e-02  \n",
       "min                0.0e+00  \n",
       "50%                1.0e-03  \n",
       "65%                2.1e-03  \n",
       "75%                3.5e-03  \n",
       "max                1.0e+00  "
      ]
     },
     "execution_count": 38,
     "metadata": {},
     "output_type": "execute_result"
    }
   ],
   "source": [
    "df_copy[col].describe(percentiles=[0.65, 0.75])\n",
    "#df_copy[col].describe()"
   ]
  },
  {
   "cell_type": "code",
   "execution_count": 50,
   "id": "44a401cd",
   "metadata": {},
   "outputs": [],
   "source": [
    "df['pr_comments_cut'] = pd.cut(df['n_of_pr_comments'], \n",
    "                            bins=[df['n_of_pr_comments'].min(), np.percentile(df['n_of_pr_comments'], 65), df['n_of_pr_comments'].mean(), df['n_of_pr_comments'].max()], \n",
    "                            labels=['low', 'medium', 'high'],\n",
    "                            include_lowest=True)"
   ]
  },
  {
   "cell_type": "markdown",
   "id": "4df06305",
   "metadata": {},
   "source": [
    "According to the distribution and statistics (and intuition as well)"
   ]
  },
  {
   "cell_type": "code",
   "execution_count": 51,
   "id": "7d8d453b",
   "metadata": {},
   "outputs": [
    {
     "data": {
      "text/plain": [
       "low       83185\n",
       "medium    21348\n",
       "high      13308\n",
       "Name: pr_comments_cut, dtype: int64"
      ]
     },
     "execution_count": 51,
     "metadata": {},
     "output_type": "execute_result"
    }
   ],
   "source": [
    "df['pr_comments_cut'].value_counts()"
   ]
  },
  {
   "cell_type": "code",
   "execution_count": 52,
   "id": "1081e3d9",
   "metadata": {},
   "outputs": [],
   "source": [
    "df['issue_comments_cut'] = pd.cut(df['n_of_issue_comments'], \n",
    "                            bins=[df['n_of_issue_comments'].min(), np.percentile(df['n_of_issue_comments'], 65), df['n_of_issue_comments'].mean(), df['n_of_issue_comments'].max()], \n",
    "                            labels=['low', 'medium', 'high'],\n",
    "                                 include_lowest=True)"
   ]
  },
  {
   "cell_type": "code",
   "execution_count": 53,
   "id": "b11dbc3d",
   "metadata": {},
   "outputs": [
    {
     "data": {
      "text/plain": [
       "low       76614\n",
       "high      23432\n",
       "medium    17795\n",
       "Name: issue_comments_cut, dtype: int64"
      ]
     },
     "execution_count": 53,
     "metadata": {},
     "output_type": "execute_result"
    }
   ],
   "source": [
    "df['issue_comments_cut'].value_counts()"
   ]
  },
  {
   "cell_type": "code",
   "execution_count": 54,
   "id": "16931372",
   "metadata": {},
   "outputs": [],
   "source": [
    "df['commits_cut'] = pd.cut(df['n_of_commits'], \n",
    "                            bins=[df['n_of_commits'].min(), np.percentile(df['n_of_commits'], 65), df['n_of_commits'].mean(), df['n_of_commits'].max()], \n",
    "                            labels=['low', 'medium', 'high'],\n",
    "                          include_lowest=True)"
   ]
  },
  {
   "cell_type": "code",
   "execution_count": 55,
   "id": "13dcccb4",
   "metadata": {},
   "outputs": [
    {
     "data": {
      "text/plain": [
       "low       76836\n",
       "high      26468\n",
       "medium    14537\n",
       "Name: commits_cut, dtype: int64"
      ]
     },
     "execution_count": 55,
     "metadata": {},
     "output_type": "execute_result"
    }
   ],
   "source": [
    "df['commits_cut'].value_counts()"
   ]
  },
  {
   "cell_type": "code",
   "execution_count": 56,
   "id": "99a55846",
   "metadata": {},
   "outputs": [],
   "source": [
    "df['commit_comments_cut'] = pd.cut(df['n_of_commit_comments'], \n",
    "                            bins=[0, np.percentile(df['n_of_commit_comments'], 65), df['n_of_commit_comments'].mean(), df['n_of_commit_comments'].max()], \n",
    "                            labels=['low', 'medium', 'high'],\n",
    "                                  include_lowest=True)"
   ]
  },
  {
   "cell_type": "code",
   "execution_count": 57,
   "id": "4dd1ced3",
   "metadata": {},
   "outputs": [
    {
     "data": {
      "text/plain": [
       "low       78607\n",
       "high      21451\n",
       "medium    17783\n",
       "Name: commit_comments_cut, dtype: int64"
      ]
     },
     "execution_count": 57,
     "metadata": {},
     "output_type": "execute_result"
    }
   ],
   "source": [
    "df['commit_comments_cut'].value_counts()"
   ]
  },
  {
   "cell_type": "code",
   "execution_count": 58,
   "id": "77712e3f",
   "metadata": {},
   "outputs": [],
   "source": [
    "df['followers_cut'] = pd.cut(df['n_of_followers'], \n",
    "                            bins=[0, np.percentile(df['n_of_followers'], 65), df['n_of_followers'].mean(), df['n_of_followers'].max()], \n",
    "                            labels=['low', 'medium', 'high'],\n",
    "                            include_lowest=True)"
   ]
  },
  {
   "cell_type": "code",
   "execution_count": 59,
   "id": "45ddad2d",
   "metadata": {},
   "outputs": [
    {
     "data": {
      "text/plain": [
       "low       76653\n",
       "medium    21939\n",
       "high      19249\n",
       "Name: followers_cut, dtype: int64"
      ]
     },
     "execution_count": 59,
     "metadata": {},
     "output_type": "execute_result"
    }
   ],
   "source": [
    "df['followers_cut'].value_counts()"
   ]
  },
  {
   "cell_type": "code",
   "execution_count": 60,
   "id": "d513a145",
   "metadata": {},
   "outputs": [],
   "source": [
    "col_cut = ['pr_comments_cut', 'commit_comments_cut', 'issue_comments_cut', 'commits_cut', 'followers_cut' ]"
   ]
  },
  {
   "cell_type": "code",
   "execution_count": 61,
   "id": "e7fbac0a",
   "metadata": {},
   "outputs": [
    {
     "data": {
      "text/plain": [
       "pr_comments_cut        0\n",
       "commit_comments_cut    0\n",
       "issue_comments_cut     0\n",
       "commits_cut            0\n",
       "followers_cut          0\n",
       "dtype: int64"
      ]
     },
     "execution_count": 61,
     "metadata": {},
     "output_type": "execute_result"
    }
   ],
   "source": [
    "df[col_cut].isna().sum()"
   ]
  },
  {
   "cell_type": "code",
   "execution_count": 65,
   "id": "012cea16",
   "metadata": {},
   "outputs": [
    {
     "data": {
      "text/html": [
       "<div>\n",
       "<style scoped>\n",
       "    .dataframe tbody tr th:only-of-type {\n",
       "        vertical-align: middle;\n",
       "    }\n",
       "\n",
       "    .dataframe tbody tr th {\n",
       "        vertical-align: top;\n",
       "    }\n",
       "\n",
       "    .dataframe thead th {\n",
       "        text-align: right;\n",
       "    }\n",
       "</style>\n",
       "<table border=\"1\" class=\"dataframe\">\n",
       "  <thead>\n",
       "    <tr style=\"text-align: right;\">\n",
       "      <th></th>\n",
       "      <th>user_id</th>\n",
       "      <th>n_of_pr_comments</th>\n",
       "      <th>n_of_followers</th>\n",
       "      <th>n_of_commits</th>\n",
       "      <th>n_of_commit_comments</th>\n",
       "      <th>n_of_issue_comments</th>\n",
       "      <th>pr_comments_cut</th>\n",
       "      <th>issue_comments_cut</th>\n",
       "      <th>commits_cut</th>\n",
       "      <th>commit_comments_cut</th>\n",
       "      <th>followers_cut</th>\n",
       "    </tr>\n",
       "  </thead>\n",
       "  <tbody>\n",
       "    <tr>\n",
       "      <th>1</th>\n",
       "      <td>1</td>\n",
       "      <td>4.6e-04</td>\n",
       "      <td>5.6e-04</td>\n",
       "      <td>7.9e-04</td>\n",
       "      <td>7.6e-04</td>\n",
       "      <td>3.1e-04</td>\n",
       "      <td>medium</td>\n",
       "      <td>low</td>\n",
       "      <td>low</td>\n",
       "      <td>low</td>\n",
       "      <td>low</td>\n",
       "    </tr>\n",
       "    <tr>\n",
       "      <th>2</th>\n",
       "      <td>2</td>\n",
       "      <td>7.8e-04</td>\n",
       "      <td>7.4e-03</td>\n",
       "      <td>1.4e-01</td>\n",
       "      <td>3.2e-03</td>\n",
       "      <td>1.6e-02</td>\n",
       "      <td>high</td>\n",
       "      <td>high</td>\n",
       "      <td>high</td>\n",
       "      <td>high</td>\n",
       "      <td>high</td>\n",
       "    </tr>\n",
       "    <tr>\n",
       "      <th>4</th>\n",
       "      <td>4</td>\n",
       "      <td>1.3e-04</td>\n",
       "      <td>3.2e-03</td>\n",
       "      <td>1.8e-02</td>\n",
       "      <td>1.8e-03</td>\n",
       "      <td>5.5e-03</td>\n",
       "      <td>medium</td>\n",
       "      <td>high</td>\n",
       "      <td>high</td>\n",
       "      <td>medium</td>\n",
       "      <td>high</td>\n",
       "    </tr>\n",
       "    <tr>\n",
       "      <th>5</th>\n",
       "      <td>5</td>\n",
       "      <td>2.0e-03</td>\n",
       "      <td>7.2e-03</td>\n",
       "      <td>4.2e-02</td>\n",
       "      <td>5.6e-03</td>\n",
       "      <td>3.3e-02</td>\n",
       "      <td>high</td>\n",
       "      <td>high</td>\n",
       "      <td>high</td>\n",
       "      <td>high</td>\n",
       "      <td>high</td>\n",
       "    </tr>\n",
       "    <tr>\n",
       "      <th>6</th>\n",
       "      <td>6</td>\n",
       "      <td>1.3e-04</td>\n",
       "      <td>1.3e-04</td>\n",
       "      <td>2.3e-01</td>\n",
       "      <td>3.8e-04</td>\n",
       "      <td>5.3e-05</td>\n",
       "      <td>medium</td>\n",
       "      <td>low</td>\n",
       "      <td>high</td>\n",
       "      <td>low</td>\n",
       "      <td>low</td>\n",
       "    </tr>\n",
       "  </tbody>\n",
       "</table>\n",
       "</div>"
      ],
      "text/plain": [
       "   user_id  n_of_pr_comments  n_of_followers  n_of_commits  \\\n",
       "1        1           4.6e-04         5.6e-04       7.9e-04   \n",
       "2        2           7.8e-04         7.4e-03       1.4e-01   \n",
       "4        4           1.3e-04         3.2e-03       1.8e-02   \n",
       "5        5           2.0e-03         7.2e-03       4.2e-02   \n",
       "6        6           1.3e-04         1.3e-04       2.3e-01   \n",
       "\n",
       "   n_of_commit_comments  n_of_issue_comments pr_comments_cut  \\\n",
       "1               7.6e-04              3.1e-04          medium   \n",
       "2               3.2e-03              1.6e-02            high   \n",
       "4               1.8e-03              5.5e-03          medium   \n",
       "5               5.6e-03              3.3e-02            high   \n",
       "6               3.8e-04              5.3e-05          medium   \n",
       "\n",
       "  issue_comments_cut commits_cut commit_comments_cut followers_cut  \n",
       "1                low         low                 low           low  \n",
       "2               high        high                high          high  \n",
       "4               high        high              medium          high  \n",
       "5               high        high                high          high  \n",
       "6                low        high                 low           low  "
      ]
     },
     "execution_count": 65,
     "metadata": {},
     "output_type": "execute_result"
    }
   ],
   "source": [
    "df.head()"
   ]
  },
  {
   "cell_type": "markdown",
   "id": "db34d535",
   "metadata": {},
   "source": [
    "### Cluster analysis on the dataset of actions"
   ]
  },
  {
   "cell_type": "markdown",
   "id": "d50ab130",
   "metadata": {},
   "source": [
    "### Kmeans"
   ]
  },
  {
   "cell_type": "code",
   "execution_count": 70,
   "id": "11f0e08e",
   "metadata": {},
   "outputs": [],
   "source": [
    "col_clust=df[['n_of_pr_comments', 'n_of_followers', 'n_of_commits', 'n_of_commit_comments', 'n_of_issue_comments']]\n",
    "#Variables of interest for clustering"
   ]
  },
  {
   "cell_type": "code",
   "execution_count": 74,
   "id": "a0e580f7",
   "metadata": {},
   "outputs": [
    {
     "data": {
      "text/html": [
       "<div>\n",
       "<style scoped>\n",
       "    .dataframe tbody tr th:only-of-type {\n",
       "        vertical-align: middle;\n",
       "    }\n",
       "\n",
       "    .dataframe tbody tr th {\n",
       "        vertical-align: top;\n",
       "    }\n",
       "\n",
       "    .dataframe thead th {\n",
       "        text-align: right;\n",
       "    }\n",
       "</style>\n",
       "<table border=\"1\" class=\"dataframe\">\n",
       "  <thead>\n",
       "    <tr style=\"text-align: right;\">\n",
       "      <th></th>\n",
       "      <th>n_of_pr_comments</th>\n",
       "      <th>n_of_followers</th>\n",
       "      <th>n_of_commits</th>\n",
       "      <th>n_of_commit_comments</th>\n",
       "      <th>n_of_issue_comments</th>\n",
       "    </tr>\n",
       "  </thead>\n",
       "  <tbody>\n",
       "    <tr>\n",
       "      <th>1</th>\n",
       "      <td>4.6e-04</td>\n",
       "      <td>5.6e-04</td>\n",
       "      <td>7.9e-04</td>\n",
       "      <td>7.6e-04</td>\n",
       "      <td>3.1e-04</td>\n",
       "    </tr>\n",
       "    <tr>\n",
       "      <th>2</th>\n",
       "      <td>7.8e-04</td>\n",
       "      <td>7.4e-03</td>\n",
       "      <td>1.4e-01</td>\n",
       "      <td>3.2e-03</td>\n",
       "      <td>1.6e-02</td>\n",
       "    </tr>\n",
       "    <tr>\n",
       "      <th>4</th>\n",
       "      <td>1.3e-04</td>\n",
       "      <td>3.2e-03</td>\n",
       "      <td>1.8e-02</td>\n",
       "      <td>1.8e-03</td>\n",
       "      <td>5.5e-03</td>\n",
       "    </tr>\n",
       "    <tr>\n",
       "      <th>5</th>\n",
       "      <td>2.0e-03</td>\n",
       "      <td>7.2e-03</td>\n",
       "      <td>4.2e-02</td>\n",
       "      <td>5.6e-03</td>\n",
       "      <td>3.3e-02</td>\n",
       "    </tr>\n",
       "    <tr>\n",
       "      <th>6</th>\n",
       "      <td>1.3e-04</td>\n",
       "      <td>1.3e-04</td>\n",
       "      <td>2.3e-01</td>\n",
       "      <td>3.8e-04</td>\n",
       "      <td>5.3e-05</td>\n",
       "    </tr>\n",
       "  </tbody>\n",
       "</table>\n",
       "</div>"
      ],
      "text/plain": [
       "   n_of_pr_comments  n_of_followers  n_of_commits  n_of_commit_comments  \\\n",
       "1           4.6e-04         5.6e-04       7.9e-04               7.6e-04   \n",
       "2           7.8e-04         7.4e-03       1.4e-01               3.2e-03   \n",
       "4           1.3e-04         3.2e-03       1.8e-02               1.8e-03   \n",
       "5           2.0e-03         7.2e-03       4.2e-02               5.6e-03   \n",
       "6           1.3e-04         1.3e-04       2.3e-01               3.8e-04   \n",
       "\n",
       "   n_of_issue_comments  \n",
       "1              3.1e-04  \n",
       "2              1.6e-02  \n",
       "4              5.5e-03  \n",
       "5              3.3e-02  \n",
       "6              5.3e-05  "
      ]
     },
     "execution_count": 74,
     "metadata": {},
     "output_type": "execute_result"
    }
   ],
   "source": [
    "col_clust.head()"
   ]
  },
  {
   "cell_type": "code",
   "execution_count": 75,
   "id": "928d9e5c",
   "metadata": {},
   "outputs": [
    {
     "data": {
      "text/plain": [
       "pandas.core.frame.DataFrame"
      ]
     },
     "execution_count": 75,
     "metadata": {},
     "output_type": "execute_result"
    }
   ],
   "source": [
    "type(col_clust)"
   ]
  },
  {
   "cell_type": "code",
   "execution_count": 76,
   "id": "fd2bee60",
   "metadata": {},
   "outputs": [],
   "source": [
    "cols = [col for col in col_clust.columns]\n",
    "X = col_clust[cols].values\n"
   ]
  },
  {
   "cell_type": "code",
   "execution_count": 69,
   "id": "7bdf4538",
   "metadata": {},
   "outputs": [
    {
     "data": {
      "text/plain": [
       "numpy.ndarray"
      ]
     },
     "execution_count": 69,
     "metadata": {},
     "output_type": "execute_result"
    }
   ],
   "source": [
    "type(X_minmax)"
   ]
  },
  {
   "cell_type": "code",
   "execution_count": 81,
   "id": "44f173a6",
   "metadata": {},
   "outputs": [],
   "source": [
    "wcss = [] \n",
    "for i in range(1, 21): \n",
    "    kmeans = KMeans(n_clusters = i, init = 'k-means++', random_state = 42)\n",
    "    kmeans.fit(X) \n",
    "    wcss.append(kmeans.inertia_)"
   ]
  },
  {
   "cell_type": "code",
   "execution_count": 79,
   "id": "43daf1b6",
   "metadata": {},
   "outputs": [
    {
     "data": {
      "image/png": "[encoded data removed]",
      "text/plain": [
       "<Figure size 576x360 with 1 Axes>"
      ]
     },
     "metadata": {
      "needs_background": "light"
     },
     "output_type": "display_data"
    }
   ],
   "source": [
    "\n",
    "plt.figure(figsize=(8, 5))\n",
    "plt.plot(range(2, len(wcss)+2), wcss)  # , xticks=range(6)\n",
    "plt.title('The Elbow Method')\n",
    "plt.xlabel('Number of clusters', fontsize=15)\n",
    "plt.ylabel('WCSS')\n",
    "plt.axvline(x=3, color='k', linestyle='--')\n",
    "plt.axvline(x=4, color='r', linestyle='--')\n",
    "plt.xlim([0, 8])\n",
    "plt.show()"
   ]
  },
  {
   "cell_type": "code",
   "execution_count": 82,
   "id": "fd29e420",
   "metadata": {},
   "outputs": [],
   "source": [
    "kmeans = KMeans(n_clusters = 4, init = \"k-means++\", random_state = 42)\n",
    "y_kmeans = kmeans.fit(X_minmax)"
   ]
  },
  {
   "cell_type": "code",
   "execution_count": 89,
   "id": "a0bd2d67",
   "metadata": {},
   "outputs": [],
   "source": [
    "#print('SSE', kmeans.inertia_)\n",
    "#print('Silhouette', silhouette_score(X_minmax, kmeans.labels_)) "
   ]
  },
  {
   "cell_type": "code",
   "execution_count": 83,
   "id": "89d7ea18",
   "metadata": {},
   "outputs": [],
   "source": [
    "kmeans.cluster_centers_\n",
    "\n",
    "centers = kmeans.cluster_centers_\n",
    "\n",
    "centers = scaler.inverse_transform(centers)"
   ]
  },
  {
   "cell_type": "code",
   "execution_count": 84,
   "id": "03ec72fd",
   "metadata": {},
   "outputs": [
    {
     "name": "stdout",
     "output_type": "stream",
     "text": [
      "[0 1 0 ... 0 0 0]\n"
     ]
    }
   ],
   "source": [
    "print(kmeans.labels_)"
   ]
  },
  {
   "cell_type": "code",
   "execution_count": 85,
   "id": "c3efe370",
   "metadata": {},
   "outputs": [],
   "source": [
    "clust_name = ['0', '1', '2', '3']"
   ]
  },
  {
   "cell_type": "code",
   "execution_count": 86,
   "id": "0a1dbda4",
   "metadata": {
    "scrolled": true
   },
   "outputs": [
    {
     "data": {
      "image/png": "[encoded data removed]",
      "text/plain": [
       "<Figure size 864x360 with 1 Axes>"
      ]
     },
     "metadata": {
      "needs_background": "light"
     },
     "output_type": "display_data"
    }
   ],
   "source": [
    "plt.figure(figsize=(12, 5))\n",
    "\n",
    "clust_name = ['0', '1', '2', '3']\n",
    "for i in range(len(centers)):\n",
    "    plt.plot(centers[i], marker='o', label=clust_name[i])\n",
    "    \n",
    "plt.xticks(range(0, len(cols)), cols, fontsize=8, rotation=45)\n",
    "plt.yticks(fontsize=10)\n",
    "\n",
    "\n",
    "plt.legend(fontsize=15, loc='best')\n",
    "plt.grid(axis='y')"
   ]
  },
  {
   "cell_type": "code",
   "execution_count": 87,
   "id": "29a79369",
   "metadata": {},
   "outputs": [],
   "source": [
    "df['kmeans_labels'] = kmeans.labels_"
   ]
  },
  {
   "cell_type": "code",
   "execution_count": 88,
   "id": "2eeb8967",
   "metadata": {},
   "outputs": [
    {
     "data": {
      "text/html": [
       "<div>\n",
       "<style scoped>\n",
       "    .dataframe tbody tr th:only-of-type {\n",
       "        vertical-align: middle;\n",
       "    }\n",
       "\n",
       "    .dataframe tbody tr th {\n",
       "        vertical-align: top;\n",
       "    }\n",
       "\n",
       "    .dataframe thead th {\n",
       "        text-align: right;\n",
       "    }\n",
       "</style>\n",
       "<table border=\"1\" class=\"dataframe\">\n",
       "  <thead>\n",
       "    <tr style=\"text-align: right;\">\n",
       "      <th></th>\n",
       "      <th>user_id</th>\n",
       "      <th>n_of_pr_comments</th>\n",
       "      <th>n_of_followers</th>\n",
       "      <th>n_of_commits</th>\n",
       "      <th>n_of_commit_comments</th>\n",
       "      <th>n_of_issue_comments</th>\n",
       "      <th>pr_comments_cut</th>\n",
       "      <th>issue_comments_cut</th>\n",
       "      <th>commits_cut</th>\n",
       "      <th>commit_comments_cut</th>\n",
       "      <th>followers_cut</th>\n",
       "      <th>kmeans_labels</th>\n",
       "    </tr>\n",
       "  </thead>\n",
       "  <tbody>\n",
       "    <tr>\n",
       "      <th>1</th>\n",
       "      <td>1</td>\n",
       "      <td>4.6e-04</td>\n",
       "      <td>5.6e-04</td>\n",
       "      <td>7.9e-04</td>\n",
       "      <td>7.6e-04</td>\n",
       "      <td>3.1e-04</td>\n",
       "      <td>medium</td>\n",
       "      <td>low</td>\n",
       "      <td>low</td>\n",
       "      <td>low</td>\n",
       "      <td>low</td>\n",
       "      <td>0</td>\n",
       "    </tr>\n",
       "    <tr>\n",
       "      <th>2</th>\n",
       "      <td>2</td>\n",
       "      <td>7.8e-04</td>\n",
       "      <td>7.4e-03</td>\n",
       "      <td>1.4e-01</td>\n",
       "      <td>3.2e-03</td>\n",
       "      <td>1.6e-02</td>\n",
       "      <td>high</td>\n",
       "      <td>high</td>\n",
       "      <td>high</td>\n",
       "      <td>high</td>\n",
       "      <td>high</td>\n",
       "      <td>1</td>\n",
       "    </tr>\n",
       "    <tr>\n",
       "      <th>4</th>\n",
       "      <td>4</td>\n",
       "      <td>1.3e-04</td>\n",
       "      <td>3.2e-03</td>\n",
       "      <td>1.8e-02</td>\n",
       "      <td>1.8e-03</td>\n",
       "      <td>5.5e-03</td>\n",
       "      <td>medium</td>\n",
       "      <td>high</td>\n",
       "      <td>high</td>\n",
       "      <td>medium</td>\n",
       "      <td>high</td>\n",
       "      <td>0</td>\n",
       "    </tr>\n",
       "    <tr>\n",
       "      <th>5</th>\n",
       "      <td>5</td>\n",
       "      <td>2.0e-03</td>\n",
       "      <td>7.2e-03</td>\n",
       "      <td>4.2e-02</td>\n",
       "      <td>5.6e-03</td>\n",
       "      <td>3.3e-02</td>\n",
       "      <td>high</td>\n",
       "      <td>high</td>\n",
       "      <td>high</td>\n",
       "      <td>high</td>\n",
       "      <td>high</td>\n",
       "      <td>1</td>\n",
       "    </tr>\n",
       "    <tr>\n",
       "      <th>6</th>\n",
       "      <td>6</td>\n",
       "      <td>1.3e-04</td>\n",
       "      <td>1.3e-04</td>\n",
       "      <td>2.3e-01</td>\n",
       "      <td>3.8e-04</td>\n",
       "      <td>5.3e-05</td>\n",
       "      <td>medium</td>\n",
       "      <td>low</td>\n",
       "      <td>high</td>\n",
       "      <td>low</td>\n",
       "      <td>low</td>\n",
       "      <td>1</td>\n",
       "    </tr>\n",
       "    <tr>\n",
       "      <th>7</th>\n",
       "      <td>8</td>\n",
       "      <td>3.3e-05</td>\n",
       "      <td>1.9e-04</td>\n",
       "      <td>0.0e+00</td>\n",
       "      <td>1.3e-04</td>\n",
       "      <td>0.0e+00</td>\n",
       "      <td>low</td>\n",
       "      <td>low</td>\n",
       "      <td>low</td>\n",
       "      <td>low</td>\n",
       "      <td>low</td>\n",
       "      <td>0</td>\n",
       "    </tr>\n",
       "    <tr>\n",
       "      <th>8</th>\n",
       "      <td>9</td>\n",
       "      <td>0.0e+00</td>\n",
       "      <td>9.8e-04</td>\n",
       "      <td>2.2e-02</td>\n",
       "      <td>3.8e-04</td>\n",
       "      <td>1.7e-03</td>\n",
       "      <td>low</td>\n",
       "      <td>low</td>\n",
       "      <td>high</td>\n",
       "      <td>low</td>\n",
       "      <td>medium</td>\n",
       "      <td>0</td>\n",
       "    </tr>\n",
       "    <tr>\n",
       "      <th>9</th>\n",
       "      <td>10</td>\n",
       "      <td>1.8e-03</td>\n",
       "      <td>4.9e-02</td>\n",
       "      <td>1.2e-02</td>\n",
       "      <td>1.8e-02</td>\n",
       "      <td>1.9e-01</td>\n",
       "      <td>high</td>\n",
       "      <td>high</td>\n",
       "      <td>high</td>\n",
       "      <td>high</td>\n",
       "      <td>high</td>\n",
       "      <td>2</td>\n",
       "    </tr>\n",
       "    <tr>\n",
       "      <th>10</th>\n",
       "      <td>11</td>\n",
       "      <td>0.0e+00</td>\n",
       "      <td>7.4e-05</td>\n",
       "      <td>1.6e-03</td>\n",
       "      <td>3.8e-04</td>\n",
       "      <td>2.0e-03</td>\n",
       "      <td>low</td>\n",
       "      <td>low</td>\n",
       "      <td>low</td>\n",
       "      <td>low</td>\n",
       "      <td>low</td>\n",
       "      <td>0</td>\n",
       "    </tr>\n",
       "    <tr>\n",
       "      <th>11</th>\n",
       "      <td>12</td>\n",
       "      <td>1.6e-04</td>\n",
       "      <td>4.6e-04</td>\n",
       "      <td>7.5e-03</td>\n",
       "      <td>1.7e-03</td>\n",
       "      <td>1.4e-03</td>\n",
       "      <td>medium</td>\n",
       "      <td>low</td>\n",
       "      <td>high</td>\n",
       "      <td>medium</td>\n",
       "      <td>low</td>\n",
       "      <td>0</td>\n",
       "    </tr>\n",
       "  </tbody>\n",
       "</table>\n",
       "</div>"
      ],
      "text/plain": [
       "    user_id  n_of_pr_comments  n_of_followers  n_of_commits  \\\n",
       "1         1           4.6e-04         5.6e-04       7.9e-04   \n",
       "2         2           7.8e-04         7.4e-03       1.4e-01   \n",
       "4         4           1.3e-04         3.2e-03       1.8e-02   \n",
       "5         5           2.0e-03         7.2e-03       4.2e-02   \n",
       "6         6           1.3e-04         1.3e-04       2.3e-01   \n",
       "7         8           3.3e-05         1.9e-04       0.0e+00   \n",
       "8         9           0.0e+00         9.8e-04       2.2e-02   \n",
       "9        10           1.8e-03         4.9e-02       1.2e-02   \n",
       "10       11           0.0e+00         7.4e-05       1.6e-03   \n",
       "11       12           1.6e-04         4.6e-04       7.5e-03   \n",
       "\n",
       "    n_of_commit_comments  n_of_issue_comments pr_comments_cut  \\\n",
       "1                7.6e-04              3.1e-04          medium   \n",
       "2                3.2e-03              1.6e-02            high   \n",
       "4                1.8e-03              5.5e-03          medium   \n",
       "5                5.6e-03              3.3e-02            high   \n",
       "6                3.8e-04              5.3e-05          medium   \n",
       "7                1.3e-04              0.0e+00             low   \n",
       "8                3.8e-04              1.7e-03             low   \n",
       "9                1.8e-02              1.9e-01            high   \n",
       "10               3.8e-04              2.0e-03             low   \n",
       "11               1.7e-03              1.4e-03          medium   \n",
       "\n",
       "   issue_comments_cut commits_cut commit_comments_cut followers_cut  \\\n",
       "1                 low         low                 low           low   \n",
       "2                high        high                high          high   \n",
       "4                high        high              medium          high   \n",
       "5                high        high                high          high   \n",
       "6                 low        high                 low           low   \n",
       "7                 low         low                 low           low   \n",
       "8                 low        high                 low        medium   \n",
       "9                high        high                high          high   \n",
       "10                low         low                 low           low   \n",
       "11                low        high              medium           low   \n",
       "\n",
       "    kmeans_labels  \n",
       "1               0  \n",
       "2               1  \n",
       "4               0  \n",
       "5               1  \n",
       "6               1  \n",
       "7               0  \n",
       "8               0  \n",
       "9               2  \n",
       "10              0  \n",
       "11              0  "
      ]
     },
     "execution_count": 88,
     "metadata": {},
     "output_type": "execute_result"
    }
   ],
   "source": [
    "df.head(10)"
   ]
  },
  {
   "cell_type": "code",
   "execution_count": 89,
   "id": "0b3c41df",
   "metadata": {},
   "outputs": [
    {
     "data": {
      "text/plain": [
       "user_id                    int64\n",
       "n_of_pr_comments         float64\n",
       "n_of_followers           float64\n",
       "n_of_commits             float64\n",
       "n_of_commit_comments     float64\n",
       "n_of_issue_comments      float64\n",
       "pr_comments_cut         category\n",
       "issue_comments_cut      category\n",
       "commits_cut             category\n",
       "commit_comments_cut     category\n",
       "followers_cut           category\n",
       "kmeans_labels              int32\n",
       "dtype: object"
      ]
     },
     "execution_count": 89,
     "metadata": {},
     "output_type": "execute_result"
    }
   ],
   "source": [
    "df.dtypes"
   ]
  },
  {
   "cell_type": "markdown",
   "id": "d79aadd2",
   "metadata": {},
   "source": [
    "### Plot"
   ]
  },
  {
   "cell_type": "code",
   "execution_count": 90,
   "id": "d381b1ba",
   "metadata": {},
   "outputs": [
    {
     "data": {
      "image/png": "[encoded data removed]",
      "text/plain": [
       "<Figure size 360x216 with 1 Axes>"
      ]
     },
     "metadata": {
      "needs_background": "light"
     },
     "output_type": "display_data"
    }
   ],
   "source": [
    "plt.figure(figsize=(5, 3))\n",
    "sns.countplot(data=df, x='kmeans_labels')\n",
    "plt.ylabel('Users', fontsize=15)\n",
    "plt.xlabel('', fontsize=16)\n",
    "plt.yticks(ticks=[0, 20000, 40000, 60000, 80000, 100000], labels=['0', r'$2 \\times 10^4$', r'$4 \\times 10^4$', r'$6 \\times 10^4$', r'$8 \\times 10^4$', r'$1 \\times 10^5$'], fontsize=13)\n",
    "\n",
    "plt.xticks(ticks=[0, 1, 2, 3], labels=['Cluster 0', 'Cluster 1', 'Cluster 2', 'Cluster 3'], fontsize=20, rotation=30)\n",
    "\n",
    "plt.show()\n",
    "\n",
    "\n",
    "\n",
    "\n",
    "#################\n"
   ]
  },
  {
   "cell_type": "code",
   "execution_count": 91,
   "id": "61aeb463",
   "metadata": {},
   "outputs": [
    {
     "data": {
      "text/plain": [
       "0    111512\n",
       "1      5887\n",
       "2       415\n",
       "3        27\n",
       "Name: kmeans_labels, dtype: int64"
      ]
     },
     "execution_count": 91,
     "metadata": {},
     "output_type": "execute_result"
    }
   ],
   "source": [
    "df['kmeans_labels'].value_counts()"
   ]
  },
  {
   "cell_type": "markdown",
   "id": "a0f2f8f2",
   "metadata": {},
   "source": [
    "The first cluster is the one with low active users: it is interesting to note that the n of commits it is medium for this cluster, meaning that the \"basic\" activity of modifying bugs/errors on Github is conducted also by this type of users. Therefore being active regards more other kind of activities"
   ]
  },
  {
   "cell_type": "code",
   "execution_count": 92,
   "id": "0cdea2fb",
   "metadata": {},
   "outputs": [
    {
     "name": "stdout",
     "output_type": "stream",
     "text": [
      "['n_of_pr_comments', 'n_of_followers', 'n_of_commits', 'n_of_commit_comments', 'n_of_issue_comments']\n"
     ]
    }
   ],
   "source": [
    "print(col)"
   ]
  },
  {
   "cell_type": "code",
   "execution_count": 93,
   "id": "18d48584",
   "metadata": {},
   "outputs": [
    {
     "data": {
      "image/png": "[encoded data removed]",
      "text/plain": [
       "<Figure size 432x288 with 1 Axes>"
      ]
     },
     "metadata": {
      "needs_background": "light"
     },
     "output_type": "display_data"
    }
   ],
   "source": [
    "sns.scatterplot(data=df, x=\"n_of_issue_comments\", y=\"n_of_commit_comments\", hue=\"kmeans_labels\", style=\"kmeans_labels\",\n",
    "                palette=\"bright\")\n",
    "plt.show()"
   ]
  },
  {
   "cell_type": "code",
   "execution_count": 94,
   "id": "7ec800b0",
   "metadata": {},
   "outputs": [
    {
     "data": {
      "image/png": "[encoded data removed]",
      "text/plain": [
       "<Figure size 432x288 with 1 Axes>"
      ]
     },
     "metadata": {
      "needs_background": "light"
     },
     "output_type": "display_data"
    }
   ],
   "source": [
    "sns.scatterplot(data=df, x=\"n_of_commit_comments\", y=\"n_of_issue_comments\", hue=\"kmeans_labels\", style=\"kmeans_labels\",\n",
    "                palette=\"bright\")\n",
    "plt.show()"
   ]
  },
  {
   "cell_type": "code",
   "execution_count": 97,
   "id": "2fec6c42",
   "metadata": {},
   "outputs": [
    {
     "data": {
      "image/png": "[encoded data removed]",
      "text/plain": [
       "<Figure size 432x288 with 1 Axes>"
      ]
     },
     "metadata": {
      "needs_background": "light"
     },
     "output_type": "display_data"
    }
   ],
   "source": [
    "sns.scatterplot(data=df, x=\"n_of_pr_comments\", y=\"n_of_commit_comments\", hue=\"kmeans_labels\", style=\"kmeans_labels\",\n",
    "                palette=\"bright\")\n",
    "plt.show()"
   ]
  },
  {
   "cell_type": "code",
   "execution_count": 98,
   "id": "6c6a78d5",
   "metadata": {},
   "outputs": [
    {
     "data": {
      "image/png": "[encoded data removed]",
      "text/plain": [
       "<Figure size 432x288 with 1 Axes>"
      ]
     },
     "metadata": {
      "needs_background": "light"
     },
     "output_type": "display_data"
    }
   ],
   "source": [
    "sns.scatterplot(data=df, x=\"n_of_pr_comments\", y=\"n_of_commit_comments\", hue=\"kmeans_labels\", style=\"kmeans_labels\",\n",
    "                palette=\"bright\")\n",
    "plt.show()"
   ]
  },
  {
   "cell_type": "code",
   "execution_count": 99,
   "id": "4566d24b",
   "metadata": {},
   "outputs": [
    {
     "data": {
      "text/plain": [
       "['pr_comments_cut',\n",
       " 'commit_comments_cut',\n",
       " 'issue_comments_cut',\n",
       " 'commits_cut',\n",
       " 'followers_cut']"
      ]
     },
     "execution_count": 99,
     "metadata": {},
     "output_type": "execute_result"
    }
   ],
   "source": [
    "col_cut"
   ]
  },
  {
   "cell_type": "code",
   "execution_count": 100,
   "id": "95708544",
   "metadata": {},
   "outputs": [
    {
     "data": {
      "image/png": "[encoded data removed]",
      "text/plain": [
       "<Figure size 432x288 with 1 Axes>"
      ]
     },
     "metadata": {
      "needs_background": "light"
     },
     "output_type": "display_data"
    }
   ],
   "source": [
    "bar_pl = df['pr_comments_cut'].groupby(df['kmeans_labels']).value_counts(normalize=True).unstack(1)\n",
    "bar_pl.plot(kind='bar', stacked=True, alpha=0.8, edgecolor='white', linewidth=1.5, title='Pull request comments per cluster', color=['b', 'g', 'c'])\n",
    "\n",
    "plt.xlabel('', fontsize=16)\n",
    "plt.xticks(range(0, len(clust_name)), labels=['Cluster 0', 'Cluster 1', 'Cluster 2', 'Cluster 3'], fontsize=20, rotation=30)\n",
    "plt.yticks(fontsize=15)\n",
    "plt.legend(bbox_to_anchor=(1,1))\n",
    "\n",
    "plt.show()"
   ]
  },
  {
   "cell_type": "code",
   "execution_count": 101,
   "id": "9ec0ff57",
   "metadata": {},
   "outputs": [
    {
     "data": {
      "image/png": "[encoded data removed]",
      "text/plain": [
       "<Figure size 432x288 with 1 Axes>"
      ]
     },
     "metadata": {
      "needs_background": "light"
     },
     "output_type": "display_data"
    }
   ],
   "source": [
    "bar_pl = df['issue_comments_cut'].groupby(df['kmeans_labels']).value_counts(normalize=True).unstack(1)\n",
    "bar_pl.plot(kind='bar', stacked=True, alpha=0.8, edgecolor='white', linewidth=1.5, title='Issue comments per cluster', color=['b', 'g', 'c'])\n",
    "\n",
    "plt.xlabel('', fontsize=16)\n",
    "#plt.xticks(ticks=[0, 1, 2, 3], labels=['Cluster 0', 'Cluster 1', 'Cluster 2', 'Cluster 3'], fontsize=16)\n",
    "plt.xticks(range(0, len(clust_name)), labels=['Cluster 0', 'Cluster 1', 'Cluster 2', 'Cluster 3'], fontsize=20, rotation=30)\n",
    "plt.yticks(fontsize=15)\n",
    "plt.legend(bbox_to_anchor=(1,1))\n",
    "\n",
    "plt.show()"
   ]
  },
  {
   "cell_type": "markdown",
   "id": "e513e311",
   "metadata": {},
   "source": [
    "This variable is interesting because it discriminates first from others"
   ]
  },
  {
   "cell_type": "code",
   "execution_count": 102,
   "id": "61d23ea1",
   "metadata": {},
   "outputs": [
    {
     "data": {
      "image/png": "[encoded data removed]",
      "text/plain": [
       "<Figure size 432x288 with 1 Axes>"
      ]
     },
     "metadata": {
      "needs_background": "light"
     },
     "output_type": "display_data"
    }
   ],
   "source": [
    "bar_pl = df['commit_comments_cut'].groupby(df['kmeans_labels']).value_counts(normalize=True).unstack(1)\n",
    "bar_pl.plot(kind='bar', stacked=True, alpha=0.8, edgecolor='white', linewidth=1.5, title='Commit comments per cluster', color=['b', 'g', 'c'])\n",
    "\n",
    "plt.xlabel('', fontsize=16)\n",
    "#plt.xticks(ticks=[0, 1, 2, 3], labels=['Cluster 0', 'Cluster 1', 'Cluster 2', 'Cluster 3'], fontsize=16)\n",
    "plt.xticks(range(0, len(clust_name)), labels=['Cluster 0', 'Cluster 1', 'Cluster 2', 'Cluster 3'], fontsize=20, rotation=30)\n",
    "plt.yticks(fontsize=15)\n",
    "plt.legend(bbox_to_anchor=(1,1))\n",
    "\n",
    "plt.show()"
   ]
  },
  {
   "cell_type": "code",
   "execution_count": 103,
   "id": "b9c04814",
   "metadata": {},
   "outputs": [
    {
     "data": {
      "image/png": "[encoded data removed]",
      "text/plain": [
       "<Figure size 432x288 with 1 Axes>"
      ]
     },
     "metadata": {
      "needs_background": "light"
     },
     "output_type": "display_data"
    }
   ],
   "source": [
    "bar_pl = df['commits_cut'].groupby(df['kmeans_labels']).value_counts(normalize=True).unstack(1)\n",
    "bar_pl.plot(kind='bar', stacked=True, alpha=0.8, edgecolor='white', linewidth=1.5, title='Commits per cluster', color=['b', 'g', 'c'])\n",
    "\n",
    "plt.xlabel('', fontsize=16)\n",
    "#plt.xticks(ticks=[0, 1, 2, 3], labels=['Cluster 0', 'Cluster 1', 'Cluster 2', 'Cluster 3'], fontsize=16)\n",
    "plt.xticks(range(0, len(clust_name)), labels=['Cluster 0', 'Cluster 1', 'Cluster 2', 'Cluster 3'], fontsize=20, rotation=30)\n",
    "plt.yticks(fontsize=15)\n",
    "plt.legend(bbox_to_anchor=(1,1))\n",
    "\n",
    "plt.show()"
   ]
  },
  {
   "cell_type": "code",
   "execution_count": 104,
   "id": "1254949b",
   "metadata": {},
   "outputs": [
    {
     "data": {
      "image/png": "[encoded data removed]",
      "text/plain": [
       "<Figure size 432x288 with 1 Axes>"
      ]
     },
     "metadata": {
      "needs_background": "light"
     },
     "output_type": "display_data"
    }
   ],
   "source": [
    "bar_pl = df['followers_cut'].groupby(df['kmeans_labels']).value_counts(normalize=True).unstack(1)\n",
    "bar_pl.plot(kind='bar', stacked=True, alpha=0.8, edgecolor='white', linewidth=1.5, title='Followers per cluster', color=['b', 'g', 'c'])\n",
    "\n",
    "plt.xlabel('', fontsize=16)\n",
    "#plt.xticks(ticks=[0, 1, 2, 3], labels=['Cluster 0', 'Cluster 1', 'Cluster 2', 'Cluster 3'], fontsize=16)\n",
    "plt.xticks(range(0, len(clust_name)), labels=['Cluster 0', 'Cluster 1', 'Cluster 2', 'Cluster 3'], fontsize=20, rotation=30)\n",
    "plt.yticks(fontsize=15)\n",
    "plt.legend(bbox_to_anchor=(1,1))\n",
    "\n",
    "plt.show()"
   ]
  },
  {
   "cell_type": "markdown",
   "id": "a979cdca",
   "metadata": {},
   "source": [
    "Cluster A is probably the least interesting for us"
   ]
  },
  {
   "cell_type": "code",
   "execution_count": 105,
   "id": "42ca6f75",
   "metadata": {},
   "outputs": [],
   "source": [
    "df_active = df.copy()"
   ]
  },
  {
   "cell_type": "code",
   "execution_count": 106,
   "id": "651b5a09",
   "metadata": {},
   "outputs": [
    {
     "data": {
      "text/html": [
       "<div>\n",
       "<style scoped>\n",
       "    .dataframe tbody tr th:only-of-type {\n",
       "        vertical-align: middle;\n",
       "    }\n",
       "\n",
       "    .dataframe tbody tr th {\n",
       "        vertical-align: top;\n",
       "    }\n",
       "\n",
       "    .dataframe thead th {\n",
       "        text-align: right;\n",
       "    }\n",
       "</style>\n",
       "<table border=\"1\" class=\"dataframe\">\n",
       "  <thead>\n",
       "    <tr style=\"text-align: right;\">\n",
       "      <th></th>\n",
       "      <th>user_id</th>\n",
       "      <th>n_of_pr_comments</th>\n",
       "      <th>n_of_followers</th>\n",
       "      <th>n_of_commits</th>\n",
       "      <th>n_of_commit_comments</th>\n",
       "      <th>n_of_issue_comments</th>\n",
       "      <th>pr_comments_cut</th>\n",
       "      <th>issue_comments_cut</th>\n",
       "      <th>commits_cut</th>\n",
       "      <th>commit_comments_cut</th>\n",
       "      <th>followers_cut</th>\n",
       "      <th>kmeans_labels</th>\n",
       "    </tr>\n",
       "  </thead>\n",
       "  <tbody>\n",
       "    <tr>\n",
       "      <th>1</th>\n",
       "      <td>1</td>\n",
       "      <td>4.6e-04</td>\n",
       "      <td>5.6e-04</td>\n",
       "      <td>7.9e-04</td>\n",
       "      <td>7.6e-04</td>\n",
       "      <td>3.1e-04</td>\n",
       "      <td>medium</td>\n",
       "      <td>low</td>\n",
       "      <td>low</td>\n",
       "      <td>low</td>\n",
       "      <td>low</td>\n",
       "      <td>0</td>\n",
       "    </tr>\n",
       "    <tr>\n",
       "      <th>240653</th>\n",
       "      <td>145874</td>\n",
       "      <td>0.0e+00</td>\n",
       "      <td>4.4e-04</td>\n",
       "      <td>3.8e-03</td>\n",
       "      <td>1.3e-04</td>\n",
       "      <td>2.7e-04</td>\n",
       "      <td>low</td>\n",
       "      <td>low</td>\n",
       "      <td>medium</td>\n",
       "      <td>low</td>\n",
       "      <td>low</td>\n",
       "      <td>0</td>\n",
       "    </tr>\n",
       "    <tr>\n",
       "      <th>240651</th>\n",
       "      <td>145868</td>\n",
       "      <td>0.0e+00</td>\n",
       "      <td>6.2e-03</td>\n",
       "      <td>1.2e-03</td>\n",
       "      <td>3.8e-04</td>\n",
       "      <td>4.2e-03</td>\n",
       "      <td>low</td>\n",
       "      <td>medium</td>\n",
       "      <td>low</td>\n",
       "      <td>low</td>\n",
       "      <td>high</td>\n",
       "      <td>0</td>\n",
       "    </tr>\n",
       "    <tr>\n",
       "      <th>240650</th>\n",
       "      <td>145866</td>\n",
       "      <td>0.0e+00</td>\n",
       "      <td>8.5e-04</td>\n",
       "      <td>2.0e-03</td>\n",
       "      <td>8.9e-04</td>\n",
       "      <td>1.9e-02</td>\n",
       "      <td>low</td>\n",
       "      <td>high</td>\n",
       "      <td>medium</td>\n",
       "      <td>low</td>\n",
       "      <td>medium</td>\n",
       "      <td>0</td>\n",
       "    </tr>\n",
       "    <tr>\n",
       "      <th>240647</th>\n",
       "      <td>145861</td>\n",
       "      <td>0.0e+00</td>\n",
       "      <td>1.1e-03</td>\n",
       "      <td>2.0e-03</td>\n",
       "      <td>1.1e-03</td>\n",
       "      <td>7.3e-03</td>\n",
       "      <td>low</td>\n",
       "      <td>high</td>\n",
       "      <td>medium</td>\n",
       "      <td>medium</td>\n",
       "      <td>medium</td>\n",
       "      <td>0</td>\n",
       "    </tr>\n",
       "    <tr>\n",
       "      <th>240640</th>\n",
       "      <td>145850</td>\n",
       "      <td>0.0e+00</td>\n",
       "      <td>4.8e-04</td>\n",
       "      <td>5.9e-04</td>\n",
       "      <td>7.6e-04</td>\n",
       "      <td>2.7e-03</td>\n",
       "      <td>low</td>\n",
       "      <td>medium</td>\n",
       "      <td>low</td>\n",
       "      <td>low</td>\n",
       "      <td>low</td>\n",
       "      <td>0</td>\n",
       "    </tr>\n",
       "    <tr>\n",
       "      <th>240638</th>\n",
       "      <td>145848</td>\n",
       "      <td>0.0e+00</td>\n",
       "      <td>5.2e-04</td>\n",
       "      <td>5.1e-04</td>\n",
       "      <td>1.3e-04</td>\n",
       "      <td>3.3e-03</td>\n",
       "      <td>low</td>\n",
       "      <td>medium</td>\n",
       "      <td>low</td>\n",
       "      <td>low</td>\n",
       "      <td>low</td>\n",
       "      <td>0</td>\n",
       "    </tr>\n",
       "    <tr>\n",
       "      <th>240634</th>\n",
       "      <td>145842</td>\n",
       "      <td>0.0e+00</td>\n",
       "      <td>2.6e-04</td>\n",
       "      <td>5.1e-04</td>\n",
       "      <td>2.5e-04</td>\n",
       "      <td>6.6e-04</td>\n",
       "      <td>low</td>\n",
       "      <td>low</td>\n",
       "      <td>low</td>\n",
       "      <td>low</td>\n",
       "      <td>low</td>\n",
       "      <td>0</td>\n",
       "    </tr>\n",
       "    <tr>\n",
       "      <th>240633</th>\n",
       "      <td>145841</td>\n",
       "      <td>0.0e+00</td>\n",
       "      <td>1.4e-03</td>\n",
       "      <td>1.6e-04</td>\n",
       "      <td>2.5e-04</td>\n",
       "      <td>4.8e-03</td>\n",
       "      <td>low</td>\n",
       "      <td>medium</td>\n",
       "      <td>low</td>\n",
       "      <td>low</td>\n",
       "      <td>medium</td>\n",
       "      <td>0</td>\n",
       "    </tr>\n",
       "    <tr>\n",
       "      <th>240630</th>\n",
       "      <td>145838</td>\n",
       "      <td>0.0e+00</td>\n",
       "      <td>1.7e-04</td>\n",
       "      <td>2.0e-04</td>\n",
       "      <td>3.8e-04</td>\n",
       "      <td>9.6e-05</td>\n",
       "      <td>low</td>\n",
       "      <td>low</td>\n",
       "      <td>low</td>\n",
       "      <td>low</td>\n",
       "      <td>low</td>\n",
       "      <td>0</td>\n",
       "    </tr>\n",
       "    <tr>\n",
       "      <th>240622</th>\n",
       "      <td>145828</td>\n",
       "      <td>0.0e+00</td>\n",
       "      <td>4.3e-04</td>\n",
       "      <td>9.4e-04</td>\n",
       "      <td>1.8e-03</td>\n",
       "      <td>2.1e-04</td>\n",
       "      <td>low</td>\n",
       "      <td>low</td>\n",
       "      <td>low</td>\n",
       "      <td>medium</td>\n",
       "      <td>low</td>\n",
       "      <td>0</td>\n",
       "    </tr>\n",
       "    <tr>\n",
       "      <th>240621</th>\n",
       "      <td>145827</td>\n",
       "      <td>0.0e+00</td>\n",
       "      <td>7.8e-04</td>\n",
       "      <td>4.4e-03</td>\n",
       "      <td>6.4e-04</td>\n",
       "      <td>3.4e-03</td>\n",
       "      <td>low</td>\n",
       "      <td>medium</td>\n",
       "      <td>high</td>\n",
       "      <td>low</td>\n",
       "      <td>medium</td>\n",
       "      <td>0</td>\n",
       "    </tr>\n",
       "    <tr>\n",
       "      <th>240664</th>\n",
       "      <td>145899</td>\n",
       "      <td>0.0e+00</td>\n",
       "      <td>1.1e-03</td>\n",
       "      <td>0.0e+00</td>\n",
       "      <td>1.3e-04</td>\n",
       "      <td>4.1e-04</td>\n",
       "      <td>low</td>\n",
       "      <td>low</td>\n",
       "      <td>low</td>\n",
       "      <td>low</td>\n",
       "      <td>medium</td>\n",
       "      <td>0</td>\n",
       "    </tr>\n",
       "    <tr>\n",
       "      <th>240619</th>\n",
       "      <td>145822</td>\n",
       "      <td>0.0e+00</td>\n",
       "      <td>3.7e-04</td>\n",
       "      <td>2.4e-04</td>\n",
       "      <td>1.3e-04</td>\n",
       "      <td>8.4e-04</td>\n",
       "      <td>low</td>\n",
       "      <td>low</td>\n",
       "      <td>low</td>\n",
       "      <td>low</td>\n",
       "      <td>low</td>\n",
       "      <td>0</td>\n",
       "    </tr>\n",
       "    <tr>\n",
       "      <th>240605</th>\n",
       "      <td>145803</td>\n",
       "      <td>0.0e+00</td>\n",
       "      <td>3.0e-04</td>\n",
       "      <td>2.4e-03</td>\n",
       "      <td>1.3e-04</td>\n",
       "      <td>3.4e-04</td>\n",
       "      <td>low</td>\n",
       "      <td>low</td>\n",
       "      <td>medium</td>\n",
       "      <td>low</td>\n",
       "      <td>low</td>\n",
       "      <td>0</td>\n",
       "    </tr>\n",
       "    <tr>\n",
       "      <th>240604</th>\n",
       "      <td>145801</td>\n",
       "      <td>0.0e+00</td>\n",
       "      <td>1.4e-03</td>\n",
       "      <td>1.1e-03</td>\n",
       "      <td>1.3e-04</td>\n",
       "      <td>8.3e-04</td>\n",
       "      <td>low</td>\n",
       "      <td>low</td>\n",
       "      <td>low</td>\n",
       "      <td>low</td>\n",
       "      <td>medium</td>\n",
       "      <td>0</td>\n",
       "    </tr>\n",
       "    <tr>\n",
       "      <th>240599</th>\n",
       "      <td>145796</td>\n",
       "      <td>0.0e+00</td>\n",
       "      <td>9.6e-04</td>\n",
       "      <td>1.5e-03</td>\n",
       "      <td>1.1e-03</td>\n",
       "      <td>6.8e-04</td>\n",
       "      <td>low</td>\n",
       "      <td>low</td>\n",
       "      <td>low</td>\n",
       "      <td>medium</td>\n",
       "      <td>medium</td>\n",
       "      <td>0</td>\n",
       "    </tr>\n",
       "    <tr>\n",
       "      <th>240583</th>\n",
       "      <td>145770</td>\n",
       "      <td>0.0e+00</td>\n",
       "      <td>1.4e-03</td>\n",
       "      <td>9.4e-04</td>\n",
       "      <td>1.3e-04</td>\n",
       "      <td>5.7e-04</td>\n",
       "      <td>low</td>\n",
       "      <td>low</td>\n",
       "      <td>low</td>\n",
       "      <td>low</td>\n",
       "      <td>medium</td>\n",
       "      <td>0</td>\n",
       "    </tr>\n",
       "    <tr>\n",
       "      <th>240577</th>\n",
       "      <td>145759</td>\n",
       "      <td>0.0e+00</td>\n",
       "      <td>2.1e-03</td>\n",
       "      <td>9.4e-04</td>\n",
       "      <td>2.5e-04</td>\n",
       "      <td>5.7e-03</td>\n",
       "      <td>low</td>\n",
       "      <td>high</td>\n",
       "      <td>low</td>\n",
       "      <td>low</td>\n",
       "      <td>high</td>\n",
       "      <td>0</td>\n",
       "    </tr>\n",
       "    <tr>\n",
       "      <th>240573</th>\n",
       "      <td>145752</td>\n",
       "      <td>0.0e+00</td>\n",
       "      <td>1.5e-03</td>\n",
       "      <td>6.3e-03</td>\n",
       "      <td>5.1e-04</td>\n",
       "      <td>8.3e-03</td>\n",
       "      <td>low</td>\n",
       "      <td>high</td>\n",
       "      <td>high</td>\n",
       "      <td>low</td>\n",
       "      <td>high</td>\n",
       "      <td>0</td>\n",
       "    </tr>\n",
       "  </tbody>\n",
       "</table>\n",
       "</div>"
      ],
      "text/plain": [
       "        user_id  n_of_pr_comments  n_of_followers  n_of_commits  \\\n",
       "1             1           4.6e-04         5.6e-04       7.9e-04   \n",
       "240653   145874           0.0e+00         4.4e-04       3.8e-03   \n",
       "240651   145868           0.0e+00         6.2e-03       1.2e-03   \n",
       "240650   145866           0.0e+00         8.5e-04       2.0e-03   \n",
       "240647   145861           0.0e+00         1.1e-03       2.0e-03   \n",
       "240640   145850           0.0e+00         4.8e-04       5.9e-04   \n",
       "240638   145848           0.0e+00         5.2e-04       5.1e-04   \n",
       "240634   145842           0.0e+00         2.6e-04       5.1e-04   \n",
       "240633   145841           0.0e+00         1.4e-03       1.6e-04   \n",
       "240630   145838           0.0e+00         1.7e-04       2.0e-04   \n",
       "240622   145828           0.0e+00         4.3e-04       9.4e-04   \n",
       "240621   145827           0.0e+00         7.8e-04       4.4e-03   \n",
       "240664   145899           0.0e+00         1.1e-03       0.0e+00   \n",
       "240619   145822           0.0e+00         3.7e-04       2.4e-04   \n",
       "240605   145803           0.0e+00         3.0e-04       2.4e-03   \n",
       "240604   145801           0.0e+00         1.4e-03       1.1e-03   \n",
       "240599   145796           0.0e+00         9.6e-04       1.5e-03   \n",
       "240583   145770           0.0e+00         1.4e-03       9.4e-04   \n",
       "240577   145759           0.0e+00         2.1e-03       9.4e-04   \n",
       "240573   145752           0.0e+00         1.5e-03       6.3e-03   \n",
       "\n",
       "        n_of_commit_comments  n_of_issue_comments pr_comments_cut  \\\n",
       "1                    7.6e-04              3.1e-04          medium   \n",
       "240653               1.3e-04              2.7e-04             low   \n",
       "240651               3.8e-04              4.2e-03             low   \n",
       "240650               8.9e-04              1.9e-02             low   \n",
       "240647               1.1e-03              7.3e-03             low   \n",
       "240640               7.6e-04              2.7e-03             low   \n",
       "240638               1.3e-04              3.3e-03             low   \n",
       "240634               2.5e-04              6.6e-04             low   \n",
       "240633               2.5e-04              4.8e-03             low   \n",
       "240630               3.8e-04              9.6e-05             low   \n",
       "240622               1.8e-03              2.1e-04             low   \n",
       "240621               6.4e-04              3.4e-03             low   \n",
       "240664               1.3e-04              4.1e-04             low   \n",
       "240619               1.3e-04              8.4e-04             low   \n",
       "240605               1.3e-04              3.4e-04             low   \n",
       "240604               1.3e-04              8.3e-04             low   \n",
       "240599               1.1e-03              6.8e-04             low   \n",
       "240583               1.3e-04              5.7e-04             low   \n",
       "240577               2.5e-04              5.7e-03             low   \n",
       "240573               5.1e-04              8.3e-03             low   \n",
       "\n",
       "       issue_comments_cut commits_cut commit_comments_cut followers_cut  \\\n",
       "1                     low         low                 low           low   \n",
       "240653                low      medium                 low           low   \n",
       "240651             medium         low                 low          high   \n",
       "240650               high      medium                 low        medium   \n",
       "240647               high      medium              medium        medium   \n",
       "240640             medium         low                 low           low   \n",
       "240638             medium         low                 low           low   \n",
       "240634                low         low                 low           low   \n",
       "240633             medium         low                 low        medium   \n",
       "240630                low         low                 low           low   \n",
       "240622                low         low              medium           low   \n",
       "240621             medium        high                 low        medium   \n",
       "240664                low         low                 low        medium   \n",
       "240619                low         low                 low           low   \n",
       "240605                low      medium                 low           low   \n",
       "240604                low         low                 low        medium   \n",
       "240599                low         low              medium        medium   \n",
       "240583                low         low                 low        medium   \n",
       "240577               high         low                 low          high   \n",
       "240573               high        high                 low          high   \n",
       "\n",
       "        kmeans_labels  \n",
       "1                   0  \n",
       "240653              0  \n",
       "240651              0  \n",
       "240650              0  \n",
       "240647              0  \n",
       "240640              0  \n",
       "240638              0  \n",
       "240634              0  \n",
       "240633              0  \n",
       "240630              0  \n",
       "240622              0  \n",
       "240621              0  \n",
       "240664              0  \n",
       "240619              0  \n",
       "240605              0  \n",
       "240604              0  \n",
       "240599              0  \n",
       "240583              0  \n",
       "240577              0  \n",
       "240573              0  "
      ]
     },
     "execution_count": 106,
     "metadata": {},
     "output_type": "execute_result"
    }
   ],
   "source": [
    "df_active.sort_values(by='kmeans_labels').head(20)"
   ]
  },
  {
   "cell_type": "code",
   "execution_count": 107,
   "id": "98cfa283",
   "metadata": {},
   "outputs": [],
   "source": [
    "df_active = df_active[df['kmeans_labels'] != 0]"
   ]
  },
  {
   "cell_type": "code",
   "execution_count": 108,
   "id": "c79195ad",
   "metadata": {},
   "outputs": [
    {
     "data": {
      "text/html": [
       "<div>\n",
       "<style scoped>\n",
       "    .dataframe tbody tr th:only-of-type {\n",
       "        vertical-align: middle;\n",
       "    }\n",
       "\n",
       "    .dataframe tbody tr th {\n",
       "        vertical-align: top;\n",
       "    }\n",
       "\n",
       "    .dataframe thead th {\n",
       "        text-align: right;\n",
       "    }\n",
       "</style>\n",
       "<table border=\"1\" class=\"dataframe\">\n",
       "  <thead>\n",
       "    <tr style=\"text-align: right;\">\n",
       "      <th></th>\n",
       "      <th>user_id</th>\n",
       "      <th>n_of_pr_comments</th>\n",
       "      <th>n_of_followers</th>\n",
       "      <th>n_of_commits</th>\n",
       "      <th>n_of_commit_comments</th>\n",
       "      <th>n_of_issue_comments</th>\n",
       "      <th>pr_comments_cut</th>\n",
       "      <th>issue_comments_cut</th>\n",
       "      <th>commits_cut</th>\n",
       "      <th>commit_comments_cut</th>\n",
       "      <th>followers_cut</th>\n",
       "      <th>kmeans_labels</th>\n",
       "    </tr>\n",
       "  </thead>\n",
       "  <tbody>\n",
       "    <tr>\n",
       "      <th>2</th>\n",
       "      <td>2</td>\n",
       "      <td>7.8e-04</td>\n",
       "      <td>7.4e-03</td>\n",
       "      <td>1.4e-01</td>\n",
       "      <td>3.2e-03</td>\n",
       "      <td>1.6e-02</td>\n",
       "      <td>high</td>\n",
       "      <td>high</td>\n",
       "      <td>high</td>\n",
       "      <td>high</td>\n",
       "      <td>high</td>\n",
       "      <td>1</td>\n",
       "    </tr>\n",
       "    <tr>\n",
       "      <th>37576</th>\n",
       "      <td>452259</td>\n",
       "      <td>1.0e-02</td>\n",
       "      <td>2.6e-04</td>\n",
       "      <td>7.8e-03</td>\n",
       "      <td>1.5e-02</td>\n",
       "      <td>4.6e-02</td>\n",
       "      <td>high</td>\n",
       "      <td>high</td>\n",
       "      <td>high</td>\n",
       "      <td>high</td>\n",
       "      <td>low</td>\n",
       "      <td>1</td>\n",
       "    </tr>\n",
       "    <tr>\n",
       "      <th>37506</th>\n",
       "      <td>450543</td>\n",
       "      <td>1.4e-03</td>\n",
       "      <td>4.6e-04</td>\n",
       "      <td>1.2e-04</td>\n",
       "      <td>6.9e-03</td>\n",
       "      <td>3.3e-02</td>\n",
       "      <td>high</td>\n",
       "      <td>high</td>\n",
       "      <td>low</td>\n",
       "      <td>high</td>\n",
       "      <td>low</td>\n",
       "      <td>1</td>\n",
       "    </tr>\n",
       "    <tr>\n",
       "      <th>37412</th>\n",
       "      <td>448274</td>\n",
       "      <td>6.2e-04</td>\n",
       "      <td>4.9e-02</td>\n",
       "      <td>4.1e-03</td>\n",
       "      <td>3.9e-03</td>\n",
       "      <td>3.0e-02</td>\n",
       "      <td>high</td>\n",
       "      <td>high</td>\n",
       "      <td>high</td>\n",
       "      <td>high</td>\n",
       "      <td>high</td>\n",
       "      <td>1</td>\n",
       "    </tr>\n",
       "    <tr>\n",
       "      <th>37381</th>\n",
       "      <td>447669</td>\n",
       "      <td>0.0e+00</td>\n",
       "      <td>8.2e-04</td>\n",
       "      <td>0.0e+00</td>\n",
       "      <td>2.9e-02</td>\n",
       "      <td>3.6e-02</td>\n",
       "      <td>low</td>\n",
       "      <td>high</td>\n",
       "      <td>low</td>\n",
       "      <td>high</td>\n",
       "      <td>medium</td>\n",
       "      <td>1</td>\n",
       "    </tr>\n",
       "  </tbody>\n",
       "</table>\n",
       "</div>"
      ],
      "text/plain": [
       "       user_id  n_of_pr_comments  n_of_followers  n_of_commits  \\\n",
       "2            2           7.8e-04         7.4e-03       1.4e-01   \n",
       "37576   452259           1.0e-02         2.6e-04       7.8e-03   \n",
       "37506   450543           1.4e-03         4.6e-04       1.2e-04   \n",
       "37412   448274           6.2e-04         4.9e-02       4.1e-03   \n",
       "37381   447669           0.0e+00         8.2e-04       0.0e+00   \n",
       "\n",
       "       n_of_commit_comments  n_of_issue_comments pr_comments_cut  \\\n",
       "2                   3.2e-03              1.6e-02            high   \n",
       "37576               1.5e-02              4.6e-02            high   \n",
       "37506               6.9e-03              3.3e-02            high   \n",
       "37412               3.9e-03              3.0e-02            high   \n",
       "37381               2.9e-02              3.6e-02             low   \n",
       "\n",
       "      issue_comments_cut commits_cut commit_comments_cut followers_cut  \\\n",
       "2                   high        high                high          high   \n",
       "37576               high        high                high           low   \n",
       "37506               high         low                high           low   \n",
       "37412               high        high                high          high   \n",
       "37381               high         low                high        medium   \n",
       "\n",
       "       kmeans_labels  \n",
       "2                  1  \n",
       "37576              1  \n",
       "37506              1  \n",
       "37412              1  \n",
       "37381              1  "
      ]
     },
     "execution_count": 108,
     "metadata": {},
     "output_type": "execute_result"
    }
   ],
   "source": [
    "df_active.sort_values(by='kmeans_labels').head()"
   ]
  },
  {
   "cell_type": "code",
   "execution_count": 109,
   "id": "d9b3a4cc",
   "metadata": {
    "scrolled": true
   },
   "outputs": [
    {
     "data": {
      "text/plain": [
       "(6329, 12)"
      ]
     },
     "execution_count": 109,
     "metadata": {},
     "output_type": "execute_result"
    }
   ],
   "source": [
    "df_active.shape"
   ]
  },
  {
   "cell_type": "code",
   "execution_count": 110,
   "id": "18714c1d",
   "metadata": {},
   "outputs": [],
   "source": [
    "df_active.to_csv('active_users.csv', index=False)"
   ]
  },
  {
   "cell_type": "code",
   "execution_count": 115,
   "id": "7596a0f9",
   "metadata": {},
   "outputs": [
    {
     "data": {
      "text/html": [
       "<div>\n",
       "<style scoped>\n",
       "    .dataframe tbody tr th:only-of-type {\n",
       "        vertical-align: middle;\n",
       "    }\n",
       "\n",
       "    .dataframe tbody tr th {\n",
       "        vertical-align: top;\n",
       "    }\n",
       "\n",
       "    .dataframe thead th {\n",
       "        text-align: right;\n",
       "    }\n",
       "</style>\n",
       "<table border=\"1\" class=\"dataframe\">\n",
       "  <thead>\n",
       "    <tr style=\"text-align: right;\">\n",
       "      <th></th>\n",
       "      <th>user_id</th>\n",
       "      <th>n_of_pr_comments</th>\n",
       "      <th>n_of_followers</th>\n",
       "      <th>n_of_commits</th>\n",
       "      <th>n_of_commit_comments</th>\n",
       "      <th>n_of_issue_comments</th>\n",
       "      <th>pr_comments_cut</th>\n",
       "      <th>issue_comments_cut</th>\n",
       "      <th>commits_cut</th>\n",
       "      <th>commit_comments_cut</th>\n",
       "      <th>followers_cut</th>\n",
       "      <th>kmeans_labels</th>\n",
       "    </tr>\n",
       "  </thead>\n",
       "  <tbody>\n",
       "    <tr>\n",
       "      <th>2</th>\n",
       "      <td>2</td>\n",
       "      <td>7.8e-04</td>\n",
       "      <td>7.4e-03</td>\n",
       "      <td>1.4e-01</td>\n",
       "      <td>3.2e-03</td>\n",
       "      <td>1.6e-02</td>\n",
       "      <td>high</td>\n",
       "      <td>high</td>\n",
       "      <td>high</td>\n",
       "      <td>high</td>\n",
       "      <td>high</td>\n",
       "      <td>1</td>\n",
       "    </tr>\n",
       "    <tr>\n",
       "      <th>5</th>\n",
       "      <td>5</td>\n",
       "      <td>2.0e-03</td>\n",
       "      <td>7.2e-03</td>\n",
       "      <td>4.2e-02</td>\n",
       "      <td>5.6e-03</td>\n",
       "      <td>3.3e-02</td>\n",
       "      <td>high</td>\n",
       "      <td>high</td>\n",
       "      <td>high</td>\n",
       "      <td>high</td>\n",
       "      <td>high</td>\n",
       "      <td>1</td>\n",
       "    </tr>\n",
       "    <tr>\n",
       "      <th>6</th>\n",
       "      <td>6</td>\n",
       "      <td>1.3e-04</td>\n",
       "      <td>1.3e-04</td>\n",
       "      <td>2.3e-01</td>\n",
       "      <td>3.8e-04</td>\n",
       "      <td>5.3e-05</td>\n",
       "      <td>medium</td>\n",
       "      <td>low</td>\n",
       "      <td>high</td>\n",
       "      <td>low</td>\n",
       "      <td>low</td>\n",
       "      <td>1</td>\n",
       "    </tr>\n",
       "    <tr>\n",
       "      <th>9</th>\n",
       "      <td>10</td>\n",
       "      <td>1.8e-03</td>\n",
       "      <td>4.9e-02</td>\n",
       "      <td>1.2e-02</td>\n",
       "      <td>1.8e-02</td>\n",
       "      <td>1.9e-01</td>\n",
       "      <td>high</td>\n",
       "      <td>high</td>\n",
       "      <td>high</td>\n",
       "      <td>high</td>\n",
       "      <td>high</td>\n",
       "      <td>2</td>\n",
       "    </tr>\n",
       "    <tr>\n",
       "      <th>15</th>\n",
       "      <td>24</td>\n",
       "      <td>3.3e-05</td>\n",
       "      <td>1.4e-03</td>\n",
       "      <td>1.4e-02</td>\n",
       "      <td>6.4e-04</td>\n",
       "      <td>2.4e-02</td>\n",
       "      <td>low</td>\n",
       "      <td>high</td>\n",
       "      <td>high</td>\n",
       "      <td>low</td>\n",
       "      <td>medium</td>\n",
       "      <td>1</td>\n",
       "    </tr>\n",
       "  </tbody>\n",
       "</table>\n",
       "</div>"
      ],
      "text/plain": [
       "    user_id  n_of_pr_comments  n_of_followers  n_of_commits  \\\n",
       "2         2           7.8e-04         7.4e-03       1.4e-01   \n",
       "5         5           2.0e-03         7.2e-03       4.2e-02   \n",
       "6         6           1.3e-04         1.3e-04       2.3e-01   \n",
       "9        10           1.8e-03         4.9e-02       1.2e-02   \n",
       "15       24           3.3e-05         1.4e-03       1.4e-02   \n",
       "\n",
       "    n_of_commit_comments  n_of_issue_comments pr_comments_cut  \\\n",
       "2                3.2e-03              1.6e-02            high   \n",
       "5                5.6e-03              3.3e-02            high   \n",
       "6                3.8e-04              5.3e-05          medium   \n",
       "9                1.8e-02              1.9e-01            high   \n",
       "15               6.4e-04              2.4e-02             low   \n",
       "\n",
       "   issue_comments_cut commits_cut commit_comments_cut followers_cut  \\\n",
       "2                high        high                high          high   \n",
       "5                high        high                high          high   \n",
       "6                 low        high                 low           low   \n",
       "9                high        high                high          high   \n",
       "15               high        high                 low        medium   \n",
       "\n",
       "    kmeans_labels  \n",
       "2               1  \n",
       "5               1  \n",
       "6               1  \n",
       "9               2  \n",
       "15              1  "
      ]
     },
     "execution_count": 115,
     "metadata": {},
     "output_type": "execute_result"
    }
   ],
   "source": [
    "df_active.head()"
   ]
  },
  {
   "cell_type": "code",
   "execution_count": 120,
   "id": "4ca9010d",
   "metadata": {},
   "outputs": [],
   "source": [
    "df_active_user = df_active[['user_id']]"
   ]
  },
  {
   "cell_type": "code",
   "execution_count": 121,
   "id": "4458f180",
   "metadata": {},
   "outputs": [
    {
     "data": {
      "text/html": [
       "<div>\n",
       "<style scoped>\n",
       "    .dataframe tbody tr th:only-of-type {\n",
       "        vertical-align: middle;\n",
       "    }\n",
       "\n",
       "    .dataframe tbody tr th {\n",
       "        vertical-align: top;\n",
       "    }\n",
       "\n",
       "    .dataframe thead th {\n",
       "        text-align: right;\n",
       "    }\n",
       "</style>\n",
       "<table border=\"1\" class=\"dataframe\">\n",
       "  <thead>\n",
       "    <tr style=\"text-align: right;\">\n",
       "      <th></th>\n",
       "      <th>user_id</th>\n",
       "    </tr>\n",
       "  </thead>\n",
       "  <tbody>\n",
       "    <tr>\n",
       "      <th>2</th>\n",
       "      <td>2</td>\n",
       "    </tr>\n",
       "    <tr>\n",
       "      <th>5</th>\n",
       "      <td>5</td>\n",
       "    </tr>\n",
       "    <tr>\n",
       "      <th>6</th>\n",
       "      <td>6</td>\n",
       "    </tr>\n",
       "    <tr>\n",
       "      <th>9</th>\n",
       "      <td>10</td>\n",
       "    </tr>\n",
       "    <tr>\n",
       "      <th>15</th>\n",
       "      <td>24</td>\n",
       "    </tr>\n",
       "  </tbody>\n",
       "</table>\n",
       "</div>"
      ],
      "text/plain": [
       "    user_id\n",
       "2         2\n",
       "5         5\n",
       "6         6\n",
       "9        10\n",
       "15       24"
      ]
     },
     "execution_count": 121,
     "metadata": {},
     "output_type": "execute_result"
    }
   ],
   "source": [
    "df_active_user.head()"
   ]
  },
  {
   "cell_type": "code",
   "execution_count": 122,
   "id": "baf48d99",
   "metadata": {},
   "outputs": [],
   "source": [
    "#df_active_user.to_csv('C:/Users/costa/Onedrive/Desktop/GITHUB/Processed/active_users_id.csv', index=False)"
   ]
  },
  {
   "cell_type": "code",
   "execution_count": 123,
   "id": "234a5487",
   "metadata": {},
   "outputs": [
    {
     "data": {
      "text/plain": [
       "user_id                    int64\n",
       "n_of_pr_comments         float64\n",
       "n_of_followers           float64\n",
       "n_of_commits             float64\n",
       "n_of_commit_comments     float64\n",
       "n_of_issue_comments      float64\n",
       "pr_comments_cut         category\n",
       "issue_comments_cut      category\n",
       "commits_cut             category\n",
       "commit_comments_cut     category\n",
       "followers_cut           category\n",
       "kmeans_labels              int32\n",
       "dtype: object"
      ]
     },
     "execution_count": 123,
     "metadata": {},
     "output_type": "execute_result"
    }
   ],
   "source": [
    "df_active.dtypes"
   ]
  },
  {
   "cell_type": "markdown",
   "id": "a66386af",
   "metadata": {},
   "source": [
    
   ]
  },
  {
   "cell_type": "code",
   "execution_count": 125,
   "id": "12581d4b",
   "metadata": {},
   "outputs": [],
   "source": [
    "# MERGE WITH USERS TABLE IN GENERAL"
   ]
  },
  {
   "cell_type": "code",
   "execution_count": null,
   "id": "77871bd9",
   "metadata": {},
   "outputs": [],
   "source": []
  },
  {
   "cell_type": "code",
   "execution_count": null,
   "id": "91e3bdcf",
   "metadata": {},
   "outputs": [],
   "source": []
  }
 ],
 "metadata": {
  "kernelspec": {
   "display_name": "Python 3 (ipykernel)",
   "language": "python",
   "name": "python3"
  },
  "language_info": {
   "codemirror_mode": {
    "name": "ipython",
    "version": 3
   },
   "file_extension": ".py",
   "mimetype": "text/x-python",
   "name": "python",
   "nbconvert_exporter": "python",
   "pygments_lexer": "ipython3",
   "version": "3.9.12"
  }
 },
 "nbformat": 4,
 "nbformat_minor": 5
}
